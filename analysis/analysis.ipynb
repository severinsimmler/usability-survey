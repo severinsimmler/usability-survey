{
 "cells": [
  {
   "cell_type": "markdown",
   "metadata": {},
   "source": [
    "# Auswertung der Fragebogen"
   ]
  },
  {
   "cell_type": "code",
   "execution_count": 1,
   "metadata": {},
   "outputs": [],
   "source": [
    "import json\n",
    "import pathlib\n",
    "\n",
    "import numpy as np\n",
    "import pandas as pd"
   ]
  },
  {
   "cell_type": "code",
   "execution_count": 2,
   "metadata": {},
   "outputs": [],
   "source": [
    "path = pathlib.Path(\"pilot\")"
   ]
  },
  {
   "cell_type": "code",
   "execution_count": 3,
   "metadata": {},
   "outputs": [],
   "source": [
    "def survey_data(directory):\n",
    "    for proband in directory.glob(\"*\"):\n",
    "        pseudonym = proband.name\n",
    "        data = list()\n",
    "        for file in pathlib.Path(proband, \"fragebogen-daten\").glob(\"*.json\"):\n",
    "            with file.open(\"r\", encoding=\"utf-8\") as survey:\n",
    "                answers = pd.Series(json.load(survey))\n",
    "                # Save name:\n",
    "                answers.name = file.stem\n",
    "                if \"nasa\" in answers.name or \"quesi\" in answers.name:\n",
    "                    # Drop the website row:\n",
    "                    answers = answers.drop(\"website\")\n",
    "                    # Need integers:\n",
    "                    answers = answers.apply(int)\n",
    "                data.append(answers)\n",
    "        yield {\"pseudonym\": pseudonym, \"data\": data}"
   ]
  },
  {
   "cell_type": "code",
   "execution_count": 4,
   "metadata": {},
   "outputs": [],
   "source": [
    "K = {\"item1\", \"item6\", \"item11\"}\n",
    "Z = {\"item2\", \"item7\", \"item12\"}\n",
    "L = {\"item3\", \"item8\", \"item13\"}\n",
    "V = {\"item4\", \"item9\", \"item14\"}\n",
    "Fe = {\"item5\", \"item10\"}"
   ]
  },
  {
   "cell_type": "code",
   "execution_count": 5,
   "metadata": {},
   "outputs": [],
   "source": [
    "def aggregate_survey(data, website):\n",
    "    tlx = list()\n",
    "    quesi = list()\n",
    "    pre = list()\n",
    "    post = list()\n",
    "    for proband in data:\n",
    "        pseudonym = proband[\"pseudonym\"]\n",
    "        data = proband[\"data\"]\n",
    "        for survey in data:\n",
    "            if survey.name == f\"{website}-nasa\":\n",
    "                # Multiply values (between 1 and 20) with 5,\n",
    "                # sum and divide by number of items (6)\n",
    "                score = survey * 5\n",
    "                score = score.sum() / 6\n",
    "                tlx.append(score)\n",
    "            elif survey.name == f\"{website}-quesi\":\n",
    "                # Add 1 to values (need 1 to 5, but have 0 to 4)\n",
    "                survey = survey + 1\n",
    "                score = list()\n",
    "                k = list()\n",
    "                z = list()\n",
    "                l = list()\n",
    "                v = list()\n",
    "                fe = list()\n",
    "                for item, value in zip(survey.index, survey):\n",
    "                    if item in K:\n",
    "                        k.append(value)\n",
    "                    elif item in Z:\n",
    "                        z.append(value)\n",
    "                    elif item in L:\n",
    "                        l.append(value)\n",
    "                    elif item in V:\n",
    "                        v.append(value)\n",
    "                    elif item in Fe:\n",
    "                        fe.append(value)\n",
    "                score.append(pd.Series(k).median())\n",
    "                score.append(pd.Series(z).median())\n",
    "                score.append(pd.Series(l).median())\n",
    "                score.append(pd.Series(v).median())\n",
    "                score.append(pd.Series(fe).median())\n",
    "                quesi.append(pd.Series(score).mean())\n",
    "            elif survey.name == \"pre\":\n",
    "                survey.name = pseudonym\n",
    "                pre.append(survey)\n",
    "            elif survey.name == \"post\":\n",
    "                survey.name = pseudonym\n",
    "                post.append(survey)\n",
    "    return pd.Series(tlx), pd.Series(quesi), pd.DataFrame(pre), pd.DataFrame(post)"
   ]
  },
  {
   "cell_type": "code",
   "execution_count": 43,
   "metadata": {},
   "outputs": [],
   "source": [
    "data = survey_data(path)\n",
    "tlx, quesi, pre, post = aggregate_survey(data, \"spreadshirt\")"
   ]
  },
  {
   "cell_type": "markdown",
   "metadata": {},
   "source": [
    "## logs"
   ]
  },
  {
   "cell_type": "code",
   "execution_count": 7,
   "metadata": {},
   "outputs": [],
   "source": [
    "def logfile_data(directory):\n",
    "    for proband in directory.glob(\"*\"):\n",
    "        pseudonym = proband.name\n",
    "        data = list()\n",
    "        for file in pathlib.Path(proband, \"logfile-daten\").glob(\"*.log\"):\n",
    "            logs = pd.read_csv(file, sep=\";\", header=None)\n",
    "            # Save name:\n",
    "            logs.name = file.stem\n",
    "            data.append(logs)\n",
    "        yield {\"pseudonym\": pseudonym, \"data\": data}"
   ]
  },
  {
   "cell_type": "code",
   "execution_count": 58,
   "metadata": {},
   "outputs": [],
   "source": [
    "x = list(logfile_data(path))"
   ]
  },
  {
   "cell_type": "code",
   "execution_count": 9,
   "metadata": {},
   "outputs": [],
   "source": [
    "def aggergate_logfiles(data, website):\n",
    "    feedback = list()\n",
    "    keyboard = list()\n",
    "    mouse = list()\n",
    "    for proband in data:\n",
    "        pseudonym = proband[\"pseudonym\"]\n",
    "        data = proband[\"data\"]\n",
    "        for logfile in data:\n",
    "            if logfile.name == f\"{website}-feedback\":\n",
    "                counts = logfile[1].value_counts()\n",
    "                counts.name = pseudonym\n",
    "                feedback.append(counts)\n",
    "            elif logfile.name == f\"{website}-keyboard\":\n",
    "                keyboard.append(logfile[0].count())\n",
    "            elif logfile.name == f\"{website}-mouse\":\n",
    "                mouse.append(logfile[0].count())\n",
    "    return pd.DataFrame(feedback).fillna(0), pd.Series(keyboard), pd.Series(mouse)"
   ]
  },
  {
   "cell_type": "code",
   "execution_count": 115,
   "metadata": {},
   "outputs": [],
   "source": [
    "feedback, keyboard, mouse = aggergate_logfiles(x, \"spreadshirt\")"
   ]
  },
  {
   "cell_type": "markdown",
   "metadata": {},
   "source": [
    "# Auswertung\n",
    "\n",
    "parameter zusammenrechnen?? oder einfach mehrere tests?\n",
    "https://machinelearningmastery.com/statistical-power-and-power-analysis-in-python/"
   ]
  },
  {
   "cell_type": "code",
   "execution_count": 21,
   "metadata": {},
   "outputs": [],
   "source": [
    "data_surv = survey_data(path)\n",
    "data_logf = logfile_data(path)\n",
    "\n",
    "tlx_spread, quesi_spread, pre_spread, post_spread = aggregate_survey(data_surv, \"spreadshirt\")\n",
    "feedback_spread, keyboard_spread, mouse_spread = aggergate_logfiles(data_logf, \"spreadshirt\")\n",
    "\n",
    "data_surv = survey_data(path)\n",
    "data_logf = logfile_data(path)\n",
    "\n",
    "tlx_shirt, quesi_shirt, pre_shirt, post_shirt = aggregate_survey(data_surv, \"shirtinator\")\n",
    "feedback_shirt, keyboard_shirt, mouse_shirt = aggergate_logfiles(data_logf, \"shirtinator\")"
   ]
  },
  {
   "cell_type": "markdown",
   "metadata": {},
   "source": [
    "## Effizienz\n",
    "\n",
    "1. Klicks/Tastatur\n",
    "2. NASA\n",
    "\n",
    "? Mausklicks gewichten, weil die wichtiger sind ?"
   ]
  },
  {
   "cell_type": "code",
   "execution_count": 35,
   "metadata": {},
   "outputs": [
    {
     "name": "stdout",
     "output_type": "stream",
     "text": [
      "TLX: 10.8333333333 12.9636243218\n",
      "Klicks: 106.0 5.65685424949\n",
      "Tastatur: 30.5 2.12132034356\n"
     ]
    }
   ],
   "source": [
    "print(\"TLX:\", tlx_spread.mean(), tlx_spread.std())\n",
    "print(\"Klicks:\", mouse_spread.mean(), mouse_spread.std())\n",
    "print(\"Tastatur:\", keyboard_spread.mean(), keyboard_spread.std())"
   ]
  },
  {
   "cell_type": "code",
   "execution_count": 36,
   "metadata": {},
   "outputs": [
    {
     "name": "stdout",
     "output_type": "stream",
     "text": [
      "TLX: 16.6666666667 7.07106781187\n",
      "Klicks: 91.0 36.7695526217\n",
      "Tastatur: 27.5 0.707106781187\n"
     ]
    }
   ],
   "source": [
    "print(\"TLX:\", tlx_shirt.mean(), tlx_shirt.std())\n",
    "print(\"Klicks:\", mouse_shirt.mean(), mouse_shirt.std())\n",
    "print(\"Tastatur:\", keyboard_shirt.mean(), keyboard_shirt.std())"
   ]
  },
  {
   "cell_type": "code",
   "execution_count": 43,
   "metadata": {},
   "outputs": [
    {
     "data": {
      "text/plain": [
       "-0.55866081912733545"
      ]
     },
     "execution_count": 43,
     "metadata": {},
     "output_type": "execute_result"
    }
   ],
   "source": [
    "from numpy import std, mean, sqrt\n",
    "\n",
    "#correct if the population S.D. is expected to be equal for the two groups.\n",
    "def cohen_d(x=tlx_spread,y=tlx_shirt):\n",
    "    nx = len(x)\n",
    "    ny = len(y)\n",
    "    dof = nx + ny - 2\n",
    "    return (mean(x) - mean(y)) / sqrt(((nx-1)*std(x, ddof=1) ** 2 + (ny-1)*std(y, ddof=1) ** 2) / dof)\n",
    "\n",
    "cohen_d()"
   ]
  },
  {
   "cell_type": "code",
   "execution_count": 75,
   "metadata": {},
   "outputs": [
    {
     "name": "stdout",
     "output_type": "stream",
     "text": [
      "25.3018977198\n"
     ]
    }
   ],
   "source": [
    "from statsmodels.stats.power import TTestIndPower\n",
    "\n",
    "samples = list()\n",
    "e = list()\n",
    "\n",
    "for values in [(tlx_shirt, tlx_spread), (mouse_shirt, mouse_spread), (keyboard_shirt, keyboard_spread),\n",
    "               (quesi_spread, quesi_shirt), (feedback_spread[\"pos\"], feedback_shirt[\"pos\"]),\n",
    "               (feedback_spread[\"neg\"], feedback_shirt[\"neg\"])]:\n",
    "    a = values[0]\n",
    "    b = values[1]\n",
    "    effect = cohen_d(a, b)\n",
    "    e.append(effect)\n",
    "    alpha=0.15\n",
    "    power=0.7\n",
    "    # perform power analysis\n",
    "    analysis = TTestIndPower()\n",
    "    result = analysis.solve_power(effect, power=power, nobs1=None, ratio=1.0, alpha=alpha)\n",
    "    #print('Sample Size: %.3f' % result)\n",
    "    samples.append(result)\n",
    "print(pd.Series(samples).median())"
   ]
  },
  {
   "cell_type": "code",
   "execution_count": 53,
   "metadata": {},
   "outputs": [
    {
     "data": {
      "text/plain": [
       "0    2.3\n",
       "1    4.1\n",
       "dtype: float64"
      ]
     },
     "execution_count": 53,
     "metadata": {},
     "output_type": "execute_result"
    }
   ],
   "source": [
    "quesi_spread"
   ]
  },
  {
   "cell_type": "code",
   "execution_count": 52,
   "metadata": {},
   "outputs": [
    {
     "data": {
      "text/plain": [
       "0    2.4\n",
       "1    4.1\n",
       "dtype: float64"
      ]
     },
     "execution_count": 52,
     "metadata": {},
     "output_type": "execute_result"
    }
   ],
   "source": [
    "quesi_shirt"
   ]
  },
  {
   "cell_type": "markdown",
   "metadata": {},
   "source": [
    "## Effektivität\n",
    "\n",
    "Nicht messbar"
   ]
  },
  {
   "cell_type": "markdown",
   "metadata": {},
   "source": [
    "## Zufriedenheit\n",
    "\n",
    "1. QUESI\n",
    "2. Feedback"
   ]
  },
  {
   "cell_type": "code",
   "execution_count": 32,
   "metadata": {},
   "outputs": [
    {
     "name": "stdout",
     "output_type": "stream",
     "text": [
      "QUESI: 3.2\n",
      "Positiv: 0.5\n",
      "Negativ: 4.5\n"
     ]
    }
   ],
   "source": [
    "print(\"QUESI:\", quesi_spread.mean())\n",
    "print(\"Positiv:\", feedback_spread[\"pos\"].mean())\n",
    "print(\"Negativ:\", feedback_spread[\"neg\"].mean())"
   ]
  },
  {
   "cell_type": "code",
   "execution_count": 33,
   "metadata": {},
   "outputs": [
    {
     "name": "stdout",
     "output_type": "stream",
     "text": [
      "QUESI: 3.25\n",
      "Positiv: 1.0\n",
      "Negativ: 3.0\n"
     ]
    }
   ],
   "source": [
    "print(\"QUESI:\", quesi_shirt.mean())\n",
    "print(\"Positiv:\", feedback_shirt[\"pos\"].mean())\n",
    "print(\"Negativ:\", feedback_shirt[\"neg\"].mean())"
   ]
  },
  {
   "cell_type": "markdown",
   "metadata": {},
   "source": [
    "## Stichprobengröße mit GPower"
   ]
  },
  {
   "cell_type": "code",
   "execution_count": 34,
   "metadata": {},
   "outputs": [
    {
     "data": {
      "text/plain": [
       "4.1247895569686666"
      ]
     },
     "execution_count": 34,
     "metadata": {},
     "output_type": "execute_result"
    }
   ],
   "source": [
    "pd.Series([10.8333333333, 16.6666666667]).std()"
   ]
  }
 ],
 "metadata": {
  "kernelspec": {
   "display_name": "Python 3",
   "language": "python",
   "name": "python3"
  },
  "language_info": {
   "codemirror_mode": {
    "name": "ipython",
    "version": 3
   },
   "file_extension": ".py",
   "mimetype": "text/x-python",
   "name": "python",
   "nbconvert_exporter": "python",
   "pygments_lexer": "ipython3",
   "version": "3.6.7"
  }
 },
 "nbformat": 4,
 "nbformat_minor": 2
}
