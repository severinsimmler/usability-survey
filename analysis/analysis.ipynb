{
 "cells": [
  {
   "cell_type": "markdown",
   "metadata": {},
   "source": [
    "# Auswertung der Fragebogen"
   ]
  },
  {
   "cell_type": "code",
   "execution_count": 1,
   "metadata": {},
   "outputs": [],
   "source": [
    "import json\n",
    "import pathlib\n",
    "import pandas as pd"
   ]
  },
  {
   "cell_type": "code",
   "execution_count": 2,
   "metadata": {},
   "outputs": [],
   "source": [
    "path = pathlib.Path(\"beispiel-daten\")"
   ]
  },
  {
   "cell_type": "code",
   "execution_count": 3,
   "metadata": {},
   "outputs": [],
   "source": [
    "def survey_data(directory):\n",
    "    for proband in directory.glob(\"*\"):\n",
    "        pseudonym = proband.name\n",
    "        data = list()\n",
    "        for file in pathlib.Path(proband, \"fragebogen-daten\").glob(\"*.json\"):\n",
    "            with file.open(\"r\", encoding=\"utf-8\") as survey:\n",
    "                answers = pd.Series(json.load(survey))\n",
    "                # Save name:\n",
    "                answers.name = file.stem\n",
    "                if \"nasa\" in answers.name or \"quesi\" in answers.name:\n",
    "                    # Drop the website row:\n",
    "                    answers = answers.drop(\"website\")\n",
    "                    # Need integers:\n",
    "                    answers = answers.apply(int)\n",
    "                data.append(answers)\n",
    "        yield {\"pseudonym\": pseudonym, \"data\": data}"
   ]
  },
  {
   "cell_type": "code",
   "execution_count": 4,
   "metadata": {},
   "outputs": [],
   "source": [
    "def aggregate(data, website):\n",
    "    tlx = list()\n",
    "    quesi = list()\n",
    "    pre = list()\n",
    "    post = list()\n",
    "    for proband in data:\n",
    "        pseudonym = proband[\"pseudonym\"]\n",
    "        data = proband[\"data\"]\n",
    "        for survey in data:\n",
    "            if survey.name == f\"{website}-nasa\":\n",
    "                score = survey * 5\n",
    "                score = score.sum() / 6\n",
    "                tlx.append(score)\n",
    "            elif survey.name == f\"{website}-quesi\":\n",
    "                # TODO\n",
    "                pass\n",
    "            elif survey.name == \"pre\":\n",
    "                survey.name = pseudonym\n",
    "                pre.append(survey)\n",
    "            elif survey.name == \"post\":\n",
    "                survey.name = pseudonym\n",
    "                post.append(survey)\n",
    "    return pd.Series(tlx), quesi, pd.DataFrame(pre), pd.DataFrame(post)"
   ]
  },
  {
   "cell_type": "code",
   "execution_count": 5,
   "metadata": {},
   "outputs": [],
   "source": [
    "data = survey_data(path)\n",
    "tlx, quesi, pre, post = aggregate(data, \"shirtinator\")"
   ]
  },
  {
   "cell_type": "code",
   "execution_count": 6,
   "metadata": {},
   "outputs": [
    {
     "data": {
      "text/html": [
       "<div>\n",
       "<style scoped>\n",
       "    .dataframe tbody tr th:only-of-type {\n",
       "        vertical-align: middle;\n",
       "    }\n",
       "\n",
       "    .dataframe tbody tr th {\n",
       "        vertical-align: top;\n",
       "    }\n",
       "\n",
       "    .dataframe thead th {\n",
       "        text-align: right;\n",
       "    }\n",
       "</style>\n",
       "<table border=\"1\" class=\"dataframe\">\n",
       "  <thead>\n",
       "    <tr style=\"text-align: right;\">\n",
       "      <th></th>\n",
       "      <th>Geschlecht</th>\n",
       "      <th>Alter</th>\n",
       "      <th>bildungsabschluss</th>\n",
       "      <th>Derzeitige Beschäftigung bzw. Studienfach</th>\n",
       "      <th>Websites schon einmal benutzt</th>\n",
       "    </tr>\n",
       "  </thead>\n",
       "  <tbody>\n",
       "    <tr>\n",
       "      <th>kesi26</th>\n",
       "      <td>männlich</td>\n",
       "      <td>23</td>\n",
       "      <td>Universitäts-/Hochschulabschluss</td>\n",
       "      <td>Digital Humanities</td>\n",
       "      <td>nein</td>\n",
       "    </tr>\n",
       "    <tr>\n",
       "      <th>mano15</th>\n",
       "      <td>männlich</td>\n",
       "      <td>23</td>\n",
       "      <td>Universitäts-/Hochschulabschluss</td>\n",
       "      <td>Digital Humanities</td>\n",
       "      <td>nein</td>\n",
       "    </tr>\n",
       "  </tbody>\n",
       "</table>\n",
       "</div>"
      ],
      "text/plain": [
       "       Geschlecht Alter                 bildungsabschluss  \\\n",
       "kesi26   männlich    23  Universitäts-/Hochschulabschluss   \n",
       "mano15   männlich    23  Universitäts-/Hochschulabschluss   \n",
       "\n",
       "       Derzeitige Beschäftigung bzw. Studienfach Websites schon einmal benutzt  \n",
       "kesi26                        Digital Humanities                          nein  \n",
       "mano15                        Digital Humanities                          nein  "
      ]
     },
     "execution_count": 6,
     "metadata": {},
     "output_type": "execute_result"
    }
   ],
   "source": [
    "pre"
   ]
  },
  {
   "cell_type": "code",
   "execution_count": 7,
   "metadata": {},
   "outputs": [
    {
     "data": {
      "text/plain": [
       "[]"
      ]
     },
     "execution_count": 7,
     "metadata": {},
     "output_type": "execute_result"
    }
   ],
   "source": [
    "quesi"
   ]
  },
  {
   "cell_type": "code",
   "execution_count": 8,
   "metadata": {},
   "outputs": [
    {
     "data": {
      "text/plain": [
       "0    60.833333\n",
       "1    60.833333\n",
       "dtype: float64"
      ]
     },
     "execution_count": 8,
     "metadata": {},
     "output_type": "execute_result"
    }
   ],
   "source": [
    "tlx"
   ]
  },
  {
   "cell_type": "code",
   "execution_count": 10,
   "metadata": {},
   "outputs": [
    {
     "data": {
      "text/plain": [
       "60.833333333333336"
      ]
     },
     "execution_count": 10,
     "metadata": {},
     "output_type": "execute_result"
    }
   ],
   "source": [
    "tlx.median()"
   ]
  },
  {
   "cell_type": "code",
   "execution_count": 9,
   "metadata": {},
   "outputs": [
    {
     "data": {
      "text/html": [
       "<div>\n",
       "<style scoped>\n",
       "    .dataframe tbody tr th:only-of-type {\n",
       "        vertical-align: middle;\n",
       "    }\n",
       "\n",
       "    .dataframe tbody tr th {\n",
       "        vertical-align: top;\n",
       "    }\n",
       "\n",
       "    .dataframe thead th {\n",
       "        text-align: right;\n",
       "    }\n",
       "</style>\n",
       "<table border=\"1\" class=\"dataframe\">\n",
       "  <thead>\n",
       "    <tr style=\"text-align: right;\">\n",
       "      <th></th>\n",
       "      <th>Bessere Website</th>\n",
       "      <th>Positiv bei shirtinator.de</th>\n",
       "      <th>Negativ bei shirtinator.de</th>\n",
       "      <th>Positiv bei spreadshirt.de</th>\n",
       "      <th>Negativ bei spreadshirt.de</th>\n",
       "    </tr>\n",
       "  </thead>\n",
       "  <tbody>\n",
       "    <tr>\n",
       "      <th>kesi26</th>\n",
       "      <td>beide gleich gut</td>\n",
       "      <td>Der Editor</td>\n",
       "      <td></td>\n",
       "      <td>Schönes Design</td>\n",
       "      <td>Der Editor</td>\n",
       "    </tr>\n",
       "    <tr>\n",
       "      <th>mano15</th>\n",
       "      <td>beide gleich gut</td>\n",
       "      <td>Der Editor</td>\n",
       "      <td></td>\n",
       "      <td>Schönes Design</td>\n",
       "      <td>Der Editor</td>\n",
       "    </tr>\n",
       "  </tbody>\n",
       "</table>\n",
       "</div>"
      ],
      "text/plain": [
       "         Bessere Website Positiv bei shirtinator.de  \\\n",
       "kesi26  beide gleich gut                 Der Editor   \n",
       "mano15  beide gleich gut                 Der Editor   \n",
       "\n",
       "       Negativ bei shirtinator.de Positiv bei spreadshirt.de  \\\n",
       "kesi26                                        Schönes Design   \n",
       "mano15                                        Schönes Design   \n",
       "\n",
       "       Negativ bei spreadshirt.de  \n",
       "kesi26                 Der Editor  \n",
       "mano15                 Der Editor  "
      ]
     },
     "execution_count": 9,
     "metadata": {},
     "output_type": "execute_result"
    }
   ],
   "source": [
    "post"
   ]
  }
 ],
 "metadata": {
  "kernelspec": {
   "display_name": "Python 3",
   "language": "python",
   "name": "python3"
  },
  "language_info": {
   "codemirror_mode": {
    "name": "ipython",
    "version": 3
   },
   "file_extension": ".py",
   "mimetype": "text/x-python",
   "name": "python",
   "nbconvert_exporter": "python",
   "pygments_lexer": "ipython3",
   "version": "3.6.7"
  }
 },
 "nbformat": 4,
 "nbformat_minor": 2
}
