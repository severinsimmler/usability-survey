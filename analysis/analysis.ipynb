{
 "cells": [
  {
   "cell_type": "code",
   "execution_count": 1,
   "metadata": {},
   "outputs": [],
   "source": [
    "import pathlib\n",
    "import usability\n",
    "import numpy as np\n",
    "import pandas as pd\n",
    "import matplotlib.pyplot as plt\n",
    "\n",
    "%matplotlib inline"
   ]
  },
  {
   "cell_type": "markdown",
   "metadata": {},
   "source": [
    "# Analytical analysis\n",
    "\n",
    "## Severity"
   ]
  },
  {
   "cell_type": "code",
   "execution_count": 2,
   "metadata": {},
   "outputs": [
    {
     "data": {
      "text/html": [
       "<div>\n",
       "<style scoped>\n",
       "    .dataframe tbody tr th:only-of-type {\n",
       "        vertical-align: middle;\n",
       "    }\n",
       "\n",
       "    .dataframe tbody tr th {\n",
       "        vertical-align: top;\n",
       "    }\n",
       "\n",
       "    .dataframe thead th {\n",
       "        text-align: right;\n",
       "    }\n",
       "</style>\n",
       "<table border=\"1\" class=\"dataframe\">\n",
       "  <thead>\n",
       "    <tr style=\"text-align: right;\">\n",
       "      <th></th>\n",
       "      <th>Irrelevant</th>\n",
       "      <th>Kosmetisch</th>\n",
       "      <th>Geringfügig</th>\n",
       "      <th>Bedeutend</th>\n",
       "      <th>Katastrophe</th>\n",
       "    </tr>\n",
       "  </thead>\n",
       "  <tbody>\n",
       "    <tr>\n",
       "      <th>Shirtinator</th>\n",
       "      <td>0</td>\n",
       "      <td>6</td>\n",
       "      <td>6</td>\n",
       "      <td>5</td>\n",
       "      <td>2</td>\n",
       "    </tr>\n",
       "    <tr>\n",
       "      <th>Spreadshirt</th>\n",
       "      <td>0</td>\n",
       "      <td>5</td>\n",
       "      <td>6</td>\n",
       "      <td>3</td>\n",
       "      <td>2</td>\n",
       "    </tr>\n",
       "  </tbody>\n",
       "</table>\n",
       "</div>"
      ],
      "text/plain": [
       "             Irrelevant  Kosmetisch  Geringfügig  Bedeutend  Katastrophe\n",
       "Shirtinator           0           6            6          5            2\n",
       "Spreadshirt           0           5            6          3            2"
      ]
     },
     "execution_count": 2,
     "metadata": {},
     "output_type": "execute_result"
    }
   ],
   "source": [
    "path = pathlib.Path(\"data\", \"analytisch\", \"severity.csv\")\n",
    "severity = pd.read_csv(path, index_col=0)\n",
    "severity"
   ]
  },
  {
   "cell_type": "code",
   "execution_count": 4,
   "metadata": {},
   "outputs": [
    {
     "data": {
      "image/png": "[encoded data removed]",
      "text/plain": [
       "<Figure size 554.4x172.8 with 1 Axes>"
      ]
     },
     "metadata": {
      "needs_background": "light"
     },
     "output_type": "display_data"
    }
   ],
   "source": [
    "ax = severity.plot.barh(figsize=(7.7, 2.4), width=.95, color=(\"#BABDB6\", \"#8AE234\", \"#FCE94F\", \"#F57900\", \"#EF2929\"))\n",
    "ax.set_xlabel(\"Absolute Häufigkeit\")\n",
    "ax.set_ylabel(\"Website\")\n",
    "plt.legend(bbox_to_anchor=(1.05, 1), loc=2, borderaxespad=0., title=\"Schweregrad\")\n",
    "plt.tight_layout()\n",
    "\n",
    "plt.savefig(\"abs.svg\")"
   ]
  },
  {
   "cell_type": "code",
   "execution_count": 5,
   "metadata": {},
   "outputs": [
    {
     "data": {
      "image/png": "[encoded data removed]",
      "text/plain": [
       "<Figure size 554.4x136.8 with 1 Axes>"
      ]
     },
     "metadata": {
      "needs_background": "light"
     },
     "output_type": "display_data"
    }
   ],
   "source": [
    "ax = severity.div(severity.sum(axis=1), axis=0).plot.barh(stacked=True, figsize=(7.7, 1.9), width=.4, color=(\"#BABDB6\", \"#8AE234\", \"#FCE94F\", \"#F57900\", \"#EF2929\"))\n",
    "plt.legend(bbox_to_anchor=(1.05, 1), loc=None, borderaxespad=0., title=\"Schweregrad\")\n",
    "ax.set_xlabel(\"Relative Häufigkeit\")\n",
    "ax.set_ylabel(\"Website\")\n",
    "plt.tight_layout()\n",
    "\n",
    "plt.savefig(\"rel.svg\")"
   ]
  },
  {
   "cell_type": "code",
   "execution_count": 179,
   "metadata": {},
   "outputs": [
    {
     "data": {
      "text/html": [
       "<div>\n",
       "<style scoped>\n",
       "    .dataframe tbody tr th:only-of-type {\n",
       "        vertical-align: middle;\n",
       "    }\n",
       "\n",
       "    .dataframe tbody tr th {\n",
       "        vertical-align: top;\n",
       "    }\n",
       "\n",
       "    .dataframe thead th {\n",
       "        text-align: right;\n",
       "    }\n",
       "</style>\n",
       "<table border=\"1\" class=\"dataframe\">\n",
       "  <thead>\n",
       "    <tr style=\"text-align: right;\">\n",
       "      <th></th>\n",
       "      <th>Shirtinator</th>\n",
       "      <th>Spreadshirt</th>\n",
       "    </tr>\n",
       "  </thead>\n",
       "  <tbody>\n",
       "    <tr>\n",
       "      <th>Severin</th>\n",
       "      <td>5</td>\n",
       "      <td>2</td>\n",
       "    </tr>\n",
       "    <tr>\n",
       "      <th>Felix</th>\n",
       "      <td>4</td>\n",
       "      <td>5</td>\n",
       "    </tr>\n",
       "    <tr>\n",
       "      <th>Carina So</th>\n",
       "      <td>4</td>\n",
       "      <td>5</td>\n",
       "    </tr>\n",
       "    <tr>\n",
       "      <th>Carina Sp</th>\n",
       "      <td>4</td>\n",
       "      <td>6</td>\n",
       "    </tr>\n",
       "    <tr>\n",
       "      <th>Valentin</th>\n",
       "      <td>8</td>\n",
       "      <td>1</td>\n",
       "    </tr>\n",
       "  </tbody>\n",
       "</table>\n",
       "</div>"
      ],
      "text/plain": [
       "           Shirtinator  Spreadshirt\n",
       "Severin              5            2\n",
       "Felix                4            5\n",
       "Carina So            4            5\n",
       "Carina Sp            4            6\n",
       "Valentin             8            1"
      ]
     },
     "execution_count": 179,
     "metadata": {},
     "output_type": "execute_result"
    }
   ],
   "source": [
    "path = pathlib.Path(\"data\", \"analytisch\", \"found-problems.csv\")\n",
    "problems = pd.read_csv(path, index_col=0)\n",
    "problems"
   ]
  },
  {
   "cell_type": "code",
   "execution_count": 180,
   "metadata": {},
   "outputs": [
    {
     "data": {
      "image/png": "[encoded data removed]",
      "text/plain": [
       "<Figure size 432x180 with 1 Axes>"
      ]
     },
     "metadata": {
      "needs_background": "light"
     },
     "output_type": "display_data"
    }
   ],
   "source": [
    "ax = problems.plot.box(vert=False, figsize=(6, 2.5), widths=[.45, .45], color={\"whiskers\": \"black\", \"boxes\": \"black\", 'medians': '#D62728'}, \n",
    "        medianprops={'linewidth': 2.8})\n",
    "ax.set_xlabel(\"Absolute Häufigkeit\")\n",
    "ax.set_ylabel(\"Website\")\n",
    "plt.tight_layout()\n",
    "plt.savefig(\"anzahl-probleme.svg\")"
   ]
  },
  {
   "cell_type": "code",
   "execution_count": null,
   "metadata": {},
   "outputs": [],
   "source": [
    "# Same Problems Spreadshirt"
   ]
  },
  {
   "cell_type": "code",
   "execution_count": 88,
   "metadata": {},
   "outputs": [],
   "source": [
    "path = pathlib.Path(\"data\", \"analytisch\", \"übereinstimmung-spreadshirt.csv\")\n",
    "same = pd.read_csv(path, index_col=0)"
   ]
  },
  {
   "cell_type": "code",
   "execution_count": 89,
   "metadata": {},
   "outputs": [
    {
     "data": {
      "text/html": [
       "<div>\n",
       "<style scoped>\n",
       "    .dataframe tbody tr th:only-of-type {\n",
       "        vertical-align: middle;\n",
       "    }\n",
       "\n",
       "    .dataframe tbody tr th {\n",
       "        vertical-align: top;\n",
       "    }\n",
       "\n",
       "    .dataframe thead th {\n",
       "        text-align: right;\n",
       "    }\n",
       "</style>\n",
       "<table border=\"1\" class=\"dataframe\">\n",
       "  <thead>\n",
       "    <tr style=\"text-align: right;\">\n",
       "      <th></th>\n",
       "      <th>Irrelevant</th>\n",
       "      <th>Kosmetisch</th>\n",
       "      <th>Gering</th>\n",
       "      <th>Bedeutend</th>\n",
       "      <th>Katastrophe</th>\n",
       "      <th>Irrelevant_S</th>\n",
       "      <th>Kosmetisch_S</th>\n",
       "      <th>Gering_S</th>\n",
       "      <th>Bedeutend_S</th>\n",
       "      <th>Katastrophe_S</th>\n",
       "      <th>Sum</th>\n",
       "    </tr>\n",
       "    <tr>\n",
       "      <th>Evaluator Dyade</th>\n",
       "      <th></th>\n",
       "      <th></th>\n",
       "      <th></th>\n",
       "      <th></th>\n",
       "      <th></th>\n",
       "      <th></th>\n",
       "      <th></th>\n",
       "      <th></th>\n",
       "      <th></th>\n",
       "      <th></th>\n",
       "      <th></th>\n",
       "    </tr>\n",
       "  </thead>\n",
       "  <tbody>\n",
       "    <tr>\n",
       "      <th>BC</th>\n",
       "      <td>0</td>\n",
       "      <td>0</td>\n",
       "      <td>1</td>\n",
       "      <td>2</td>\n",
       "      <td>0</td>\n",
       "      <td>0</td>\n",
       "      <td>0</td>\n",
       "      <td>0</td>\n",
       "      <td>0</td>\n",
       "      <td>0</td>\n",
       "      <td>3</td>\n",
       "    </tr>\n",
       "    <tr>\n",
       "      <th>AB</th>\n",
       "      <td>0</td>\n",
       "      <td>1</td>\n",
       "      <td>2</td>\n",
       "      <td>2</td>\n",
       "      <td>1</td>\n",
       "      <td>0</td>\n",
       "      <td>0</td>\n",
       "      <td>0</td>\n",
       "      <td>0</td>\n",
       "      <td>0</td>\n",
       "      <td>6</td>\n",
       "    </tr>\n",
       "    <tr>\n",
       "      <th>AC</th>\n",
       "      <td>0</td>\n",
       "      <td>1</td>\n",
       "      <td>1</td>\n",
       "      <td>2</td>\n",
       "      <td>1</td>\n",
       "      <td>0</td>\n",
       "      <td>0</td>\n",
       "      <td>0</td>\n",
       "      <td>1</td>\n",
       "      <td>0</td>\n",
       "      <td>6</td>\n",
       "    </tr>\n",
       "    <tr>\n",
       "      <th>BD</th>\n",
       "      <td>0</td>\n",
       "      <td>0</td>\n",
       "      <td>2</td>\n",
       "      <td>4</td>\n",
       "      <td>0</td>\n",
       "      <td>0</td>\n",
       "      <td>0</td>\n",
       "      <td>0</td>\n",
       "      <td>0</td>\n",
       "      <td>0</td>\n",
       "      <td>6</td>\n",
       "    </tr>\n",
       "    <tr>\n",
       "      <th>BE</th>\n",
       "      <td>0</td>\n",
       "      <td>1</td>\n",
       "      <td>4</td>\n",
       "      <td>1</td>\n",
       "      <td>1</td>\n",
       "      <td>0</td>\n",
       "      <td>0</td>\n",
       "      <td>0</td>\n",
       "      <td>0</td>\n",
       "      <td>0</td>\n",
       "      <td>7</td>\n",
       "    </tr>\n",
       "    <tr>\n",
       "      <th>CD</th>\n",
       "      <td>0</td>\n",
       "      <td>0</td>\n",
       "      <td>2</td>\n",
       "      <td>2</td>\n",
       "      <td>2</td>\n",
       "      <td>0</td>\n",
       "      <td>0</td>\n",
       "      <td>1</td>\n",
       "      <td>0</td>\n",
       "      <td>0</td>\n",
       "      <td>7</td>\n",
       "    </tr>\n",
       "    <tr>\n",
       "      <th>AD</th>\n",
       "      <td>0</td>\n",
       "      <td>1</td>\n",
       "      <td>3</td>\n",
       "      <td>2</td>\n",
       "      <td>1</td>\n",
       "      <td>0</td>\n",
       "      <td>0</td>\n",
       "      <td>0</td>\n",
       "      <td>1</td>\n",
       "      <td>0</td>\n",
       "      <td>8</td>\n",
       "    </tr>\n",
       "    <tr>\n",
       "      <th>CE</th>\n",
       "      <td>0</td>\n",
       "      <td>1</td>\n",
       "      <td>3</td>\n",
       "      <td>3</td>\n",
       "      <td>1</td>\n",
       "      <td>0</td>\n",
       "      <td>0</td>\n",
       "      <td>0</td>\n",
       "      <td>0</td>\n",
       "      <td>0</td>\n",
       "      <td>8</td>\n",
       "    </tr>\n",
       "    <tr>\n",
       "      <th>AE</th>\n",
       "      <td>0</td>\n",
       "      <td>2</td>\n",
       "      <td>4</td>\n",
       "      <td>1</td>\n",
       "      <td>0</td>\n",
       "      <td>0</td>\n",
       "      <td>0</td>\n",
       "      <td>0</td>\n",
       "      <td>1</td>\n",
       "      <td>1</td>\n",
       "      <td>9</td>\n",
       "    </tr>\n",
       "    <tr>\n",
       "      <th>DE</th>\n",
       "      <td>0</td>\n",
       "      <td>1</td>\n",
       "      <td>5</td>\n",
       "      <td>3</td>\n",
       "      <td>1</td>\n",
       "      <td>0</td>\n",
       "      <td>0</td>\n",
       "      <td>0</td>\n",
       "      <td>0</td>\n",
       "      <td>0</td>\n",
       "      <td>10</td>\n",
       "    </tr>\n",
       "  </tbody>\n",
       "</table>\n",
       "</div>"
      ],
      "text/plain": [
       "                 Irrelevant  Kosmetisch  Gering  Bedeutend  Katastrophe  \\\n",
       "Evaluator Dyade                                                           \n",
       "BC                        0           0       1          2            0   \n",
       "AB                        0           1       2          2            1   \n",
       "AC                        0           1       1          2            1   \n",
       "BD                        0           0       2          4            0   \n",
       "BE                        0           1       4          1            1   \n",
       "CD                        0           0       2          2            2   \n",
       "AD                        0           1       3          2            1   \n",
       "CE                        0           1       3          3            1   \n",
       "AE                        0           2       4          1            0   \n",
       "DE                        0           1       5          3            1   \n",
       "\n",
       "                 Irrelevant_S  Kosmetisch_S  Gering_S  Bedeutend_S  \\\n",
       "Evaluator Dyade                                                      \n",
       "BC                          0             0         0            0   \n",
       "AB                          0             0         0            0   \n",
       "AC                          0             0         0            1   \n",
       "BD                          0             0         0            0   \n",
       "BE                          0             0         0            0   \n",
       "CD                          0             0         1            0   \n",
       "AD                          0             0         0            1   \n",
       "CE                          0             0         0            0   \n",
       "AE                          0             0         0            1   \n",
       "DE                          0             0         0            0   \n",
       "\n",
       "                 Katastrophe_S  Sum  \n",
       "Evaluator Dyade                      \n",
       "BC                           0    3  \n",
       "AB                           0    6  \n",
       "AC                           0    6  \n",
       "BD                           0    6  \n",
       "BE                           0    7  \n",
       "CD                           0    7  \n",
       "AD                           0    8  \n",
       "CE                           0    8  \n",
       "AE                           1    9  \n",
       "DE                           0   10  "
      ]
     },
     "execution_count": 89,
     "metadata": {},
     "output_type": "execute_result"
    }
   ],
   "source": [
    "same[\"Sum\"] = same.sum(axis=1)\n",
    "same = same.sort_values(\"Sum\")\n",
    "same"
   ]
  },
  {
   "cell_type": "code",
   "execution_count": 90,
   "metadata": {},
   "outputs": [],
   "source": [
    "same = pd.DataFrame([same[\"Irrelevant\"], same[\"Irrelevant_S\"], same[\"Kosmetisch\"], same[\"Kosmetisch_S\"],\n",
    "              same[\"Gering\"], same[\"Gering_S\"], same[\"Bedeutend\"], same[\"Bedeutend_S\"],\n",
    "              same[\"Katastrophe\"], same[\"Katastrophe_S\"]]).T"
   ]
  },
  {
   "cell_type": "code",
   "execution_count": 91,
   "metadata": {},
   "outputs": [
    {
     "data": {
      "image/png": "[encoded data removed]",
      "text/plain": [
       "<Figure size 554.4x252 with 1 Axes>"
      ]
     },
     "metadata": {
      "needs_background": "light"
     },
     "output_type": "display_data"
    }
   ],
   "source": [
    "color = (\"#3465A4\",\"#3465A4\",\n",
    "         \"#BABDB6\",\"#8AE234\",\n",
    "         \"#888A85\",\"#FCE94F\",\n",
    "         \"#4E4E4E\",\"#F57900\",\n",
    "         \"#000000\", \"#EF2929\")\n",
    "\n",
    "ax = same.plot.barh(stacked=True, title=\"Shirtinator\", color=color, figsize=(7.7, 3.5))\n",
    "plt.legend(bbox_to_anchor=(1.05, 1), loc=None, borderaxespad=0., title=\"Sym. Differenz:\\nSchweregrad\")\n",
    "\n",
    "ax.set_xlabel(\"Absolute Häufigkeit\")\n",
    "plt.tight_layout()\n",
    "plt.savefig(\"dyade-spread.svg\")"
   ]
  },
  {
   "cell_type": "code",
   "execution_count": 92,
   "metadata": {},
   "outputs": [
    {
     "data": {
      "image/png": "[encoded data removed]",
      "text/plain": [
       "<Figure size 554.4x252 with 1 Axes>"
      ]
     },
     "metadata": {
      "needs_background": "light"
     },
     "output_type": "display_data"
    }
   ],
   "source": [
    "ax = same.div(same.sum(axis=1), axis=0).plot.barh(stacked=True, color=color, figsize=(7.7, 3.5))\n",
    "plt.legend(bbox_to_anchor=(1.05, 1), loc=None, borderaxespad=0., title=\"Schweregrad\")\n",
    "\n",
    "ax.set_xlabel(\"Relative Häufigkeit\")\n",
    "plt.tight_layout()\n",
    "plt.savefig(\"dyade-spread-rel.svg\")"
   ]
  },
  {
   "cell_type": "markdown",
   "metadata": {},
   "source": [
    "# Empirical analysis\n",
    "## Determine optimal sample size – using data from the pilot study"
   ]
  },
  {
   "cell_type": "markdown",
   "metadata": {},
   "source": [
    "Path to pilot study data:"
   ]
  },
  {
   "cell_type": "code",
   "execution_count": 2,
   "metadata": {},
   "outputs": [],
   "source": [
    "directory = pathlib.Path(\"data\", \"empirisch\", \"pilot\")"
   ]
  },
  {
   "cell_type": "markdown",
   "metadata": {},
   "source": [
    "Constructing a `Sample` object, with which the data can be parsed and analyzed:"
   ]
  },
  {
   "cell_type": "code",
   "execution_count": 3,
   "metadata": {},
   "outputs": [],
   "source": [
    "sample = usability.Sample(directory)"
   ]
  },
  {
   "cell_type": "markdown",
   "metadata": {},
   "source": [
    "### First glance: statistical power\n",
    "\n",
    "Here, at a significance level of $\\alpha = 0.1$, varying sample sizes are plotted in relation to the statistical power for each data set. In the legend, Cohen’s $d$ is given as the effect size."
   ]
  },
  {
   "cell_type": "code",
   "execution_count": 8,
   "metadata": {},
   "outputs": [
    {
     "data": {
      "image/png": "[encoded data removed]",
      "text/plain": [
       "<Figure size 554.4x244.8 with 1 Axes>"
      ]
     },
     "metadata": {
      "needs_background": "light"
     },
     "output_type": "display_data"
    }
   ],
   "source": [
    "fig = sample.plot_power(alpha=0.1, sample_sizes=np.array(range(2, 51)), figsize=(7.7, 3.4))\n",
    "plt.savefig(\"power-analysis.svg\")"
   ]
  },
  {
   "cell_type": "markdown",
   "metadata": {},
   "source": [
    "Although not much significance may be given to the result with a sample size of only 2, we want $power > 0.5$."
   ]
  },
  {
   "cell_type": "markdown",
   "metadata": {},
   "source": [
    "Finally, calling the `optimal_size()` method to calculate optimal sample sizes for each data collection and returning the median. "
   ]
  },
  {
   "cell_type": "code",
   "execution_count": 5,
   "metadata": {},
   "outputs": [
    {
     "data": {
      "text/plain": [
       "23.781142165842503"
      ]
     },
     "execution_count": 5,
     "metadata": {},
     "output_type": "execute_result"
    }
   ],
   "source": [
    "result = sample.optimal_size(alpha=0.1, power=0.6)\n",
    "result[\"median size\"]"
   ]
  },
  {
   "cell_type": "markdown",
   "metadata": {},
   "source": [
    "# Statistical testing\n",
    "## Inspecting the data"
   ]
  },
  {
   "cell_type": "code",
   "execution_count": 2,
   "metadata": {},
   "outputs": [],
   "source": [
    "directory = pathlib.Path(\"data\", \"empirisch\", \"collection\")\n",
    "sample = usability.Sample(directory)"
   ]
  },
  {
   "cell_type": "markdown",
   "metadata": {},
   "source": [
    "### Pre-questionnaire"
   ]
  },
  {
   "cell_type": "code",
   "execution_count": 10,
   "metadata": {},
   "outputs": [
    {
     "data": {
      "text/html": [
       "<div>\n",
       "<style scoped>\n",
       "    .dataframe tbody tr th:only-of-type {\n",
       "        vertical-align: middle;\n",
       "    }\n",
       "\n",
       "    .dataframe tbody tr th {\n",
       "        vertical-align: top;\n",
       "    }\n",
       "\n",
       "    .dataframe thead th {\n",
       "        text-align: right;\n",
       "    }\n",
       "</style>\n",
       "<table border=\"1\" class=\"dataframe\">\n",
       "  <thead>\n",
       "    <tr style=\"text-align: right;\">\n",
       "      <th></th>\n",
       "      <th>alter</th>\n",
       "      <th>beschäftigung</th>\n",
       "      <th>bildungsabschluss</th>\n",
       "      <th>geschlecht</th>\n",
       "      <th>pseudonym</th>\n",
       "      <th>vorkenntnisse</th>\n",
       "    </tr>\n",
       "  </thead>\n",
       "  <tbody>\n",
       "    <tr>\n",
       "      <th>0</th>\n",
       "      <td>20</td>\n",
       "      <td>MCS</td>\n",
       "      <td>Gymnasium (Abitur)</td>\n",
       "      <td>weiblich</td>\n",
       "      <td>ENPANO</td>\n",
       "      <td>nein</td>\n",
       "    </tr>\n",
       "    <tr>\n",
       "      <th>1</th>\n",
       "      <td>22</td>\n",
       "      <td>MCS</td>\n",
       "      <td>Gymnasium (Abitur)</td>\n",
       "      <td>männlich</td>\n",
       "      <td>AIGÖAU</td>\n",
       "      <td>nein</td>\n",
       "    </tr>\n",
       "    <tr>\n",
       "      <th>2</th>\n",
       "      <td>20</td>\n",
       "      <td>Mensch-Computer-Systeme</td>\n",
       "      <td>Gymnasium (Abitur)</td>\n",
       "      <td>männlich</td>\n",
       "      <td>ELCADE</td>\n",
       "      <td>nein</td>\n",
       "    </tr>\n",
       "    <tr>\n",
       "      <th>3</th>\n",
       "      <td>19</td>\n",
       "      <td>Mensch-Computer-Systeme Student</td>\n",
       "      <td>Gymnasium (Abitur)</td>\n",
       "      <td>männlich</td>\n",
       "      <td>LDELJA</td>\n",
       "      <td>nein</td>\n",
       "    </tr>\n",
       "    <tr>\n",
       "      <th>4</th>\n",
       "      <td>24</td>\n",
       "      <td>Digital Humanities</td>\n",
       "      <td>Universitäts-/Hochschulabschluss</td>\n",
       "      <td>weiblich</td>\n",
       "      <td>ERALDE</td>\n",
       "      <td>spreadshirt.de</td>\n",
       "    </tr>\n",
       "  </tbody>\n",
       "</table>\n",
       "</div>"
      ],
      "text/plain": [
       "  alter                    beschäftigung                 bildungsabschluss  \\\n",
       "0    20                              MCS                Gymnasium (Abitur)   \n",
       "1    22                              MCS                Gymnasium (Abitur)   \n",
       "2    20          Mensch-Computer-Systeme                Gymnasium (Abitur)   \n",
       "3    19  Mensch-Computer-Systeme Student                Gymnasium (Abitur)   \n",
       "4    24               Digital Humanities  Universitäts-/Hochschulabschluss   \n",
       "\n",
       "  geschlecht pseudonym   vorkenntnisse  \n",
       "0   weiblich    ENPANO            nein  \n",
       "1   männlich    AIGÖAU            nein  \n",
       "2   männlich    ELCADE            nein  \n",
       "3   männlich    LDELJA            nein  \n",
       "4   weiblich    ERALDE  spreadshirt.de  "
      ]
     },
     "execution_count": 10,
     "metadata": {},
     "output_type": "execute_result"
    }
   ],
   "source": [
    "sample.pre.head(5)"
   ]
  },
  {
   "cell_type": "code",
   "execution_count": 116,
   "metadata": {},
   "outputs": [
    {
     "data": {
      "image/png": "[encoded data removed]",
      "text/plain": [
       "<Figure size 432x144 with 1 Axes>"
      ]
     },
     "metadata": {
      "needs_background": "light"
     },
     "output_type": "display_data"
    }
   ],
   "source": [
    "alter = sample.pre[\"alter\"].apply(lambda x: int(x))\n",
    "alter.name = \"Alter\"\n",
    "\n",
    "ax = alter.plot.box(vert=False, figsize=(6, 2), widths=.45, color={\"whiskers\": \"black\", \"boxes\": \"black\", 'medians': '#D62728'}, \n",
    "        medianprops={'linewidth': 2.8})\n",
    "ax.set_xlabel(\"Alter, in Jahren\")\n",
    "ax.set_yticklabels(\"\")\n",
    "from matplotlib.ticker import MaxNLocator\n",
    "ax.xaxis.set_major_locator(MaxNLocator(integer=True))\n",
    "plt.tight_layout()\n",
    "plt.savefig(\"alter.svg\")"
   ]
  },
  {
   "cell_type": "code",
   "execution_count": 39,
   "metadata": {},
   "outputs": [],
   "source": [
    "beschäftigung = sample.pre[\"beschäftigung\"].replace(\"MCS\", \"Student (Mensch-Computer-Systeme)\")\n",
    "beschäftigung = beschäftigung.replace(\"Mensch-Computer-Systeme\", \"Student (Mensch-Computer-Systeme)\")\n",
    "beschäftigung = beschäftigung.replace(\"Mensch-Computer-Systeme (Student)\", \"Student (Mensch-Computer-Systeme)\")\n",
    "beschäftigung = beschäftigung.replace(\"Chemie Bachelor\", \"Student (Chemie)\")\n",
    "beschäftigung = beschäftigung.replace(\"digital humanities\", \"Student (Digital Humanities)\")\n",
    "beschäftigung = beschäftigung.replace(\"Physik\", \"Student (Physik)\")\n",
    "beschäftigung = beschäftigung.replace(\"digital humanities\", \"Student (Digital Humanities)\")\n",
    "beschäftigung = beschäftigung.replace(\"Mensch-Computer-Systeme Student\", \"Student (Mensch-Computer-Systeme)\")\n",
    "beschäftigung = beschäftigung.replace(\"digital humanities\".title(), \"Student (Digital Humanities)\")\n",
    "beschäftigung = beschäftigung.replace(\"Student MCS\", \"Student (Mensch-Computer-Systeme)\")"
   ]
  },
  {
   "cell_type": "code",
   "execution_count": 52,
   "metadata": {},
   "outputs": [
    {
     "data": {
      "image/png": "[encoded data removed]",
      "text/plain": [
       "<Figure size 554.4x252 with 1 Axes>"
      ]
     },
     "metadata": {
      "needs_background": "light"
     },
     "output_type": "display_data"
    }
   ],
   "source": [
    "ax = beschäftigung.value_counts().sort_values().plot.barh(color=\"#555753\", figsize=(7.7, 3.5))\n",
    "ax.set_xlabel(\"Absolute Häufigkeit\")\n",
    "ax.set_ylabel(\"Beschäftigung\")\n",
    "plt.tight_layout()\n",
    "plt.savefig(\"beschäftigung.svg\")"
   ]
  },
  {
   "cell_type": "code",
   "execution_count": 62,
   "metadata": {},
   "outputs": [
    {
     "data": {
      "image/png": "[encoded data removed]",
      "text/plain": [
       "<Figure size 554.4x165.6 with 1 Axes>"
      ]
     },
     "metadata": {
      "needs_background": "light"
     },
     "output_type": "display_data"
    }
   ],
   "source": [
    "ax = sample.pre[\"bildungsabschluss\"].value_counts().sort_values().plot.barh(color=\"#555753\", figsize=(7.7, 2.3))\n",
    "ax.set_xlabel(\"Absolute Häufigkeit\")\n",
    "ax.set_ylabel(\"Höchster\\nBildungsabschluss\")\n",
    "ax.xaxis.set_major_locator(MaxNLocator(integer=True))\n",
    "plt.tight_layout()\n",
    "plt.savefig(\"bildungsabschluss.svg\")"
   ]
  },
  {
   "cell_type": "code",
   "execution_count": 70,
   "metadata": {},
   "outputs": [
    {
     "data": {
      "image/png": "[encoded data removed]",
      "text/plain": [
       "<Figure size 432x144 with 1 Axes>"
      ]
     },
     "metadata": {
      "needs_background": "light"
     },
     "output_type": "display_data"
    }
   ],
   "source": [
    "ax = sample.pre[\"geschlecht\"].apply(lambda x: x.title()).value_counts().sort_values().plot.barh(color=\"#555753\", figsize=(6, 2))\n",
    "ax.set_xlabel(\"Absolute Häufigkeit\")\n",
    "ax.set_ylabel(\"Geschlecht\")\n",
    "ax.xaxis.set_major_locator(MaxNLocator(integer=True))\n",
    "plt.tight_layout()\n",
    "plt.savefig(\"geschlecht.svg\")"
   ]
  },
  {
   "cell_type": "code",
   "execution_count": 73,
   "metadata": {},
   "outputs": [
    {
     "data": {
      "image/png": "[encoded data removed]",
      "text/plain": [
       "<Figure size 432x165.6 with 1 Axes>"
      ]
     },
     "metadata": {
      "needs_background": "light"
     },
     "output_type": "display_data"
    }
   ],
   "source": [
    "ax = sample.pre[\"vorkenntnisse\"].replace(\"n. a.\", \"Keine Angabe\").replace(\"spreadshirt.de\", \"Spreadshirt\").replace(\"nein\", \"Keine\").value_counts().sort_values().plot.barh(color=\"#555753\", figsize=(6, 2.3))\n",
    "ax.set_xlabel(\"Absolute Häufigkeit\")\n",
    "ax.set_ylabel(\"Vorkenntnisse\")\n",
    "ax.xaxis.set_major_locator(MaxNLocator(integer=True))\n",
    "plt.tight_layout()\n",
    "plt.savefig(\"vorkenntnisse.svg\")"
   ]
  },
  {
   "cell_type": "markdown",
   "metadata": {},
   "source": [
    "### NASA-TLX"
   ]
  },
  {
   "cell_type": "code",
   "execution_count": 8,
   "metadata": {},
   "outputs": [
    {
     "data": {
      "text/html": [
       "<div>\n",
       "<style scoped>\n",
       "    .dataframe tbody tr th:only-of-type {\n",
       "        vertical-align: middle;\n",
       "    }\n",
       "\n",
       "    .dataframe tbody tr th {\n",
       "        vertical-align: top;\n",
       "    }\n",
       "\n",
       "    .dataframe thead th {\n",
       "        text-align: right;\n",
       "    }\n",
       "</style>\n",
       "<table border=\"1\" class=\"dataframe\">\n",
       "  <thead>\n",
       "    <tr style=\"text-align: right;\">\n",
       "      <th></th>\n",
       "      <th>pseudonym</th>\n",
       "      <th>score</th>\n",
       "      <th>survey</th>\n",
       "      <th>website</th>\n",
       "    </tr>\n",
       "  </thead>\n",
       "  <tbody>\n",
       "    <tr>\n",
       "      <th>0</th>\n",
       "      <td>ENPANO</td>\n",
       "      <td>9.166667</td>\n",
       "      <td>nasa</td>\n",
       "      <td>spreadshirt</td>\n",
       "    </tr>\n",
       "    <tr>\n",
       "      <th>1</th>\n",
       "      <td>ENPANO</td>\n",
       "      <td>10.833333</td>\n",
       "      <td>nasa</td>\n",
       "      <td>shirtinator</td>\n",
       "    </tr>\n",
       "    <tr>\n",
       "      <th>2</th>\n",
       "      <td>AIGÖAU</td>\n",
       "      <td>26.666667</td>\n",
       "      <td>nasa</td>\n",
       "      <td>spreadshirt</td>\n",
       "    </tr>\n",
       "    <tr>\n",
       "      <th>3</th>\n",
       "      <td>AIGÖAU</td>\n",
       "      <td>42.500000</td>\n",
       "      <td>nasa</td>\n",
       "      <td>shirtinator</td>\n",
       "    </tr>\n",
       "    <tr>\n",
       "      <th>4</th>\n",
       "      <td>ELCADE</td>\n",
       "      <td>15.000000</td>\n",
       "      <td>nasa</td>\n",
       "      <td>spreadshirt</td>\n",
       "    </tr>\n",
       "  </tbody>\n",
       "</table>\n",
       "</div>"
      ],
      "text/plain": [
       "  pseudonym      score survey      website\n",
       "0    ENPANO   9.166667   nasa  spreadshirt\n",
       "1    ENPANO  10.833333   nasa  shirtinator\n",
       "2    AIGÖAU  26.666667   nasa  spreadshirt\n",
       "3    AIGÖAU  42.500000   nasa  shirtinator\n",
       "4    ELCADE  15.000000   nasa  spreadshirt"
      ]
     },
     "execution_count": 8,
     "metadata": {},
     "output_type": "execute_result"
    }
   ],
   "source": [
    "sample.nasa.head(5)"
   ]
  },
  {
   "cell_type": "code",
   "execution_count": 119,
   "metadata": {},
   "outputs": [
    {
     "data": {
      "image/png": "[encoded data removed]",
      "text/plain": [
       "<Figure size 432x180 with 1 Axes>"
      ]
     },
     "metadata": {
      "needs_background": "light"
     },
     "output_type": "display_data"
    }
   ],
   "source": [
    "df = pd.DataFrame(columns=[\"Shirtinator\", \"Spreadshirt\"])\n",
    "df.loc[:, \"Spreadshirt\"] = sample.nasa[sample.nasa[\"website\"] == \"spreadshirt\"][\"score\"].values\n",
    "df.loc[:, \"Shirtinator\"] = sample.nasa[sample.nasa[\"website\"] == \"shirtinator\"][\"score\"].values\n",
    "\n",
    "ax = df.plot.box(vert=False, figsize=(6, 2.5), widths=[.45, .45], color={\"whiskers\": \"black\", \"boxes\": \"black\", 'medians': '#D62728'}, \n",
    "        medianprops={'linewidth': 2.8})\n",
    "ax.set_xlabel(\"NASA-TLX Score\")\n",
    "plt.tight_layout()\n",
    "plt.savefig(\"nasa.svg\")"
   ]
  },
  {
   "cell_type": "markdown",
   "metadata": {},
   "source": [
    "### QUESI"
   ]
  },
  {
   "cell_type": "code",
   "execution_count": 9,
   "metadata": {},
   "outputs": [
    {
     "data": {
      "text/html": [
       "<div>\n",
       "<style scoped>\n",
       "    .dataframe tbody tr th:only-of-type {\n",
       "        vertical-align: middle;\n",
       "    }\n",
       "\n",
       "    .dataframe tbody tr th {\n",
       "        vertical-align: top;\n",
       "    }\n",
       "\n",
       "    .dataframe thead th {\n",
       "        text-align: right;\n",
       "    }\n",
       "</style>\n",
       "<table border=\"1\" class=\"dataframe\">\n",
       "  <thead>\n",
       "    <tr style=\"text-align: right;\">\n",
       "      <th></th>\n",
       "      <th>pseudonym</th>\n",
       "      <th>score</th>\n",
       "      <th>survey</th>\n",
       "      <th>website</th>\n",
       "    </tr>\n",
       "  </thead>\n",
       "  <tbody>\n",
       "    <tr>\n",
       "      <th>0</th>\n",
       "      <td>ENPANO</td>\n",
       "      <td>4.4</td>\n",
       "      <td>quesi</td>\n",
       "      <td>shirtinator</td>\n",
       "    </tr>\n",
       "    <tr>\n",
       "      <th>1</th>\n",
       "      <td>ENPANO</td>\n",
       "      <td>4.5</td>\n",
       "      <td>quesi</td>\n",
       "      <td>spreadshirt</td>\n",
       "    </tr>\n",
       "    <tr>\n",
       "      <th>2</th>\n",
       "      <td>AIGÖAU</td>\n",
       "      <td>1.9</td>\n",
       "      <td>quesi</td>\n",
       "      <td>shirtinator</td>\n",
       "    </tr>\n",
       "    <tr>\n",
       "      <th>3</th>\n",
       "      <td>AIGÖAU</td>\n",
       "      <td>3.9</td>\n",
       "      <td>quesi</td>\n",
       "      <td>spreadshirt</td>\n",
       "    </tr>\n",
       "    <tr>\n",
       "      <th>4</th>\n",
       "      <td>ELCADE</td>\n",
       "      <td>3.9</td>\n",
       "      <td>quesi</td>\n",
       "      <td>shirtinator</td>\n",
       "    </tr>\n",
       "  </tbody>\n",
       "</table>\n",
       "</div>"
      ],
      "text/plain": [
       "  pseudonym  score survey      website\n",
       "0    ENPANO    4.4  quesi  shirtinator\n",
       "1    ENPANO    4.5  quesi  spreadshirt\n",
       "2    AIGÖAU    1.9  quesi  shirtinator\n",
       "3    AIGÖAU    3.9  quesi  spreadshirt\n",
       "4    ELCADE    3.9  quesi  shirtinator"
      ]
     },
     "execution_count": 9,
     "metadata": {},
     "output_type": "execute_result"
    }
   ],
   "source": [
    "sample.quesi.head(5)"
   ]
  },
  {
   "cell_type": "code",
   "execution_count": 120,
   "metadata": {},
   "outputs": [
    {
     "data": {
      "image/png": "[encoded data removed]",
      "text/plain": [
       "<Figure size 432x180 with 1 Axes>"
      ]
     },
     "metadata": {
      "needs_background": "light"
     },
     "output_type": "display_data"
    }
   ],
   "source": [
    "df = pd.DataFrame(columns=[\"Shirtinator\", \"Spreadshirt\"])\n",
    "df.loc[:, \"Spreadshirt\"] = sample.quesi[sample.quesi[\"website\"] == \"spreadshirt\"][\"score\"].values\n",
    "df.loc[:, \"Shirtinator\"] = sample.quesi[sample.quesi[\"website\"] == \"shirtinator\"][\"score\"].values\n",
    "\n",
    "ax = df.plot.box(vert=False, figsize=(6, 2.5), widths=[.45, .45], color={\"whiskers\": \"black\", \"boxes\": \"black\", 'medians': '#D62728'}, \n",
    "        medianprops={'linewidth': 2.8})\n",
    "ax.set_xlabel(\"QUESI Score\")\n",
    "plt.tight_layout()\n",
    "plt.savefig(\"quesi.svg\")"
   ]
  },
  {
   "cell_type": "markdown",
   "metadata": {},
   "source": [
    "### Feedback"
   ]
  },
  {
   "cell_type": "code",
   "execution_count": 10,
   "metadata": {},
   "outputs": [
    {
     "data": {
      "text/html": [
       "<div>\n",
       "<style scoped>\n",
       "    .dataframe tbody tr th:only-of-type {\n",
       "        vertical-align: middle;\n",
       "    }\n",
       "\n",
       "    .dataframe tbody tr th {\n",
       "        vertical-align: top;\n",
       "    }\n",
       "\n",
       "    .dataframe thead th {\n",
       "        text-align: right;\n",
       "    }\n",
       "</style>\n",
       "<table border=\"1\" class=\"dataframe\">\n",
       "  <thead>\n",
       "    <tr style=\"text-align: right;\">\n",
       "      <th></th>\n",
       "      <th>negativ</th>\n",
       "      <th>positiv</th>\n",
       "      <th>pseudonym</th>\n",
       "      <th>website</th>\n",
       "      <th>ratio</th>\n",
       "    </tr>\n",
       "  </thead>\n",
       "  <tbody>\n",
       "    <tr>\n",
       "      <th>0</th>\n",
       "      <td>2</td>\n",
       "      <td>3</td>\n",
       "      <td>ENPANO</td>\n",
       "      <td>spreadshirt</td>\n",
       "      <td>0.750000</td>\n",
       "    </tr>\n",
       "    <tr>\n",
       "      <th>1</th>\n",
       "      <td>5</td>\n",
       "      <td>1</td>\n",
       "      <td>ENPANO</td>\n",
       "      <td>shirtinator</td>\n",
       "      <td>3.000000</td>\n",
       "    </tr>\n",
       "    <tr>\n",
       "      <th>2</th>\n",
       "      <td>8</td>\n",
       "      <td>18</td>\n",
       "      <td>AIGÖAU</td>\n",
       "      <td>spreadshirt</td>\n",
       "      <td>0.473684</td>\n",
       "    </tr>\n",
       "    <tr>\n",
       "      <th>3</th>\n",
       "      <td>21</td>\n",
       "      <td>8</td>\n",
       "      <td>AIGÖAU</td>\n",
       "      <td>shirtinator</td>\n",
       "      <td>2.444444</td>\n",
       "    </tr>\n",
       "    <tr>\n",
       "      <th>4</th>\n",
       "      <td>5</td>\n",
       "      <td>12</td>\n",
       "      <td>ELCADE</td>\n",
       "      <td>spreadshirt</td>\n",
       "      <td>0.461538</td>\n",
       "    </tr>\n",
       "  </tbody>\n",
       "</table>\n",
       "</div>"
      ],
      "text/plain": [
       "   negativ  positiv pseudonym      website     ratio\n",
       "0        2        3    ENPANO  spreadshirt  0.750000\n",
       "1        5        1    ENPANO  shirtinator  3.000000\n",
       "2        8       18    AIGÖAU  spreadshirt  0.473684\n",
       "3       21        8    AIGÖAU  shirtinator  2.444444\n",
       "4        5       12    ELCADE  spreadshirt  0.461538"
      ]
     },
     "execution_count": 10,
     "metadata": {},
     "output_type": "execute_result"
    }
   ],
   "source": [
    "sample.feedback.head(5)"
   ]
  },
  {
   "cell_type": "code",
   "execution_count": 4,
   "metadata": {},
   "outputs": [
    {
     "data": {
      "image/png": "[encoded data removed]",
      "text/plain": [
       "<Figure size 432x180 with 1 Axes>"
      ]
     },
     "metadata": {
      "needs_background": "light"
     },
     "output_type": "display_data"
    }
   ],
   "source": [
    "df = pd.DataFrame(columns=[\"Shirtinator\", \"Spreadshirt\"])\n",
    "df.loc[:, \"Spreadshirt\"] = sample.quesi[sample.quesi[\"website\"] == \"spreadshirt\"][\"score\"].values\n",
    "df.loc[:, \"Shirtinator\"] = sample.quesi[sample.quesi[\"website\"] == \"shirtinator\"][\"score\"].values\n",
    "\n",
    "ax = df.plot.box(vert=False, figsize=(6, 2.5), widths=[.45, .45], color={\"whiskers\": \"black\", \"boxes\": \"black\", 'medians': '#D62728'}, \n",
    "        medianprops={'linewidth': 2.8})\n",
    "ax.set_xlabel(\"positiv : negativ\")\n",
    "plt.tight_layout()\n",
    "plt.savefig(\"feedback.svg\")"
   ]
  },
  {
   "cell_type": "markdown",
   "metadata": {},
   "source": [
    "### Mouse clicks"
   ]
  },
  {
   "cell_type": "code",
   "execution_count": 12,
   "metadata": {},
   "outputs": [
    {
     "data": {
      "text/html": [
       "<div>\n",
       "<style scoped>\n",
       "    .dataframe tbody tr th:only-of-type {\n",
       "        vertical-align: middle;\n",
       "    }\n",
       "\n",
       "    .dataframe tbody tr th {\n",
       "        vertical-align: top;\n",
       "    }\n",
       "\n",
       "    .dataframe thead th {\n",
       "        text-align: right;\n",
       "    }\n",
       "</style>\n",
       "<table border=\"1\" class=\"dataframe\">\n",
       "  <thead>\n",
       "    <tr style=\"text-align: right;\">\n",
       "      <th></th>\n",
       "      <th>clicks</th>\n",
       "      <th>pseudonym</th>\n",
       "      <th>website</th>\n",
       "    </tr>\n",
       "  </thead>\n",
       "  <tbody>\n",
       "    <tr>\n",
       "      <th>0</th>\n",
       "      <td>101</td>\n",
       "      <td>ENPANO</td>\n",
       "      <td>shirtinator</td>\n",
       "    </tr>\n",
       "    <tr>\n",
       "      <th>1</th>\n",
       "      <td>112</td>\n",
       "      <td>ENPANO</td>\n",
       "      <td>spreadshirt</td>\n",
       "    </tr>\n",
       "    <tr>\n",
       "      <th>2</th>\n",
       "      <td>132</td>\n",
       "      <td>AIGÖAU</td>\n",
       "      <td>shirtinator</td>\n",
       "    </tr>\n",
       "    <tr>\n",
       "      <th>3</th>\n",
       "      <td>88</td>\n",
       "      <td>AIGÖAU</td>\n",
       "      <td>spreadshirt</td>\n",
       "    </tr>\n",
       "    <tr>\n",
       "      <th>4</th>\n",
       "      <td>96</td>\n",
       "      <td>ELCADE</td>\n",
       "      <td>shirtinator</td>\n",
       "    </tr>\n",
       "  </tbody>\n",
       "</table>\n",
       "</div>"
      ],
      "text/plain": [
       "   clicks pseudonym      website\n",
       "0     101    ENPANO  shirtinator\n",
       "1     112    ENPANO  spreadshirt\n",
       "2     132    AIGÖAU  shirtinator\n",
       "3      88    AIGÖAU  spreadshirt\n",
       "4      96    ELCADE  shirtinator"
      ]
     },
     "execution_count": 12,
     "metadata": {},
     "output_type": "execute_result"
    }
   ],
   "source": [
    "sample.mouse.head(5)"
   ]
  },
  {
   "cell_type": "code",
   "execution_count": 124,
   "metadata": {},
   "outputs": [
    {
     "data": {
      "image/png": "[encoded data removed]",
      "text/plain": [
       "<Figure size 432x180 with 1 Axes>"
      ]
     },
     "metadata": {
      "needs_background": "light"
     },
     "output_type": "display_data"
    }
   ],
   "source": [
    "df = pd.DataFrame(columns=[\"Shirtinator\", \"Spreadshirt\"])\n",
    "df.loc[:, \"Spreadshirt\"] = sample.mouse[sample.mouse[\"website\"] == \"spreadshirt\"][\"clicks\"].values\n",
    "df.loc[:, \"Shirtinator\"] = sample.mouse[sample.mouse[\"website\"] == \"shirtinator\"][\"clicks\"].values\n",
    "\n",
    "ax = df.plot.box(vert=False, figsize=(6, 2.5), widths=[.45, .45], color={\"whiskers\": \"black\", \"boxes\": \"black\", 'medians': '#D62728'}, \n",
    "        medianprops={'linewidth': 2.8})\n",
    "ax.set_xlabel(\"Absolute Häufigkiet\")\n",
    "plt.tight_layout()\n",
    "plt.savefig(\"maus.svg\")"
   ]
  },
  {
   "cell_type": "markdown",
   "metadata": {},
   "source": [
    "### Post-questionnaire"
   ]
  },
  {
   "cell_type": "code",
   "execution_count": 13,
   "metadata": {},
   "outputs": [
    {
     "data": {
      "text/html": [
       "<div>\n",
       "<style scoped>\n",
       "    .dataframe tbody tr th:only-of-type {\n",
       "        vertical-align: middle;\n",
       "    }\n",
       "\n",
       "    .dataframe tbody tr th {\n",
       "        vertical-align: top;\n",
       "    }\n",
       "\n",
       "    .dataframe thead th {\n",
       "        text-align: right;\n",
       "    }\n",
       "</style>\n",
       "<table border=\"1\" class=\"dataframe\">\n",
       "  <thead>\n",
       "    <tr style=\"text-align: right;\">\n",
       "      <th></th>\n",
       "      <th>besser</th>\n",
       "      <th>negativ shirtinator</th>\n",
       "      <th>negativ spreadshirt</th>\n",
       "      <th>positiv shirtinator</th>\n",
       "      <th>positiv spreadshirt</th>\n",
       "      <th>pseudonym</th>\n",
       "    </tr>\n",
       "  </thead>\n",
       "  <tbody>\n",
       "    <tr>\n",
       "      <th>0</th>\n",
       "      <td>spreadshirt.de</td>\n",
       "      <td>Das Bild wurde einmal nicht angezeigt beim Hoc...</td>\n",
       "      <td>man konnte das bild aus dem druckbereich hinau...</td>\n",
       "      <td>Es war ein vorgegebener Bereich für die Bilder...</td>\n",
       "      <td>Leicht zu bedienen \\r\\nsieht schöner aus</td>\n",
       "      <td>ENPANO</td>\n",
       "    </tr>\n",
       "    <tr>\n",
       "      <th>1</th>\n",
       "      <td>spreadshirt.de</td>\n",
       "      <td>Inkonsistente Fenster, wenn \"Zurück\" ist Arbei...</td>\n",
       "      <td>wenig Hilfestellung (mousehover info zb)</td>\n",
       "      <td>nichts</td>\n",
       "      <td>ziemlich einfach zu bedienen, Rückgängigmachen...</td>\n",
       "      <td>AIGÖAU</td>\n",
       "    </tr>\n",
       "    <tr>\n",
       "      <th>2</th>\n",
       "      <td>shirtinator.de</td>\n",
       "      <td></td>\n",
       "      <td></td>\n",
       "      <td>Ich fand die Seite sah freundlicher aus.</td>\n",
       "      <td></td>\n",
       "      <td>ELCADE</td>\n",
       "    </tr>\n",
       "    <tr>\n",
       "      <th>3</th>\n",
       "      <td>shirtinator.de</td>\n",
       "      <td>Beim Ändern des Geschlechts änderte sich auch ...</td>\n",
       "      <td>Dass man das Umstellen des Geschlechts mühseli...</td>\n",
       "      <td>Die Knöpfe waren da, wo ich sie vermutete, und...</td>\n",
       "      <td>Die Seite wirkte aufgeräumter/übersichtlicher</td>\n",
       "      <td>LDELJA</td>\n",
       "    </tr>\n",
       "    <tr>\n",
       "      <th>4</th>\n",
       "      <td>shirtinator.de</td>\n",
       "      <td>die Auswahl der Motivpositionierung kann verwi...</td>\n",
       "      <td>die Auswahl der Motivpositionierung kann verwi...</td>\n",
       "      <td>Qualitätsangabe des eigenen Druckmotivs\\r\\nVie...</td>\n",
       "      <td>gute Übersichtlichkeit\\r\\nsehr schlichte und s...</td>\n",
       "      <td>ERALDE</td>\n",
       "    </tr>\n",
       "  </tbody>\n",
       "</table>\n",
       "</div>"
      ],
      "text/plain": [
       "           besser                                negativ shirtinator  \\\n",
       "0  spreadshirt.de  Das Bild wurde einmal nicht angezeigt beim Hoc...   \n",
       "1  spreadshirt.de  Inkonsistente Fenster, wenn \"Zurück\" ist Arbei...   \n",
       "2  shirtinator.de                                                      \n",
       "3  shirtinator.de  Beim Ändern des Geschlechts änderte sich auch ...   \n",
       "4  shirtinator.de  die Auswahl der Motivpositionierung kann verwi...   \n",
       "\n",
       "                                 negativ spreadshirt  \\\n",
       "0  man konnte das bild aus dem druckbereich hinau...   \n",
       "1           wenig Hilfestellung (mousehover info zb)   \n",
       "2                                                      \n",
       "3  Dass man das Umstellen des Geschlechts mühseli...   \n",
       "4  die Auswahl der Motivpositionierung kann verwi...   \n",
       "\n",
       "                                 positiv shirtinator  \\\n",
       "0  Es war ein vorgegebener Bereich für die Bilder...   \n",
       "1                                             nichts   \n",
       "2           Ich fand die Seite sah freundlicher aus.   \n",
       "3  Die Knöpfe waren da, wo ich sie vermutete, und...   \n",
       "4  Qualitätsangabe des eigenen Druckmotivs\\r\\nVie...   \n",
       "\n",
       "                                 positiv spreadshirt pseudonym  \n",
       "0           Leicht zu bedienen \\r\\nsieht schöner aus    ENPANO  \n",
       "1  ziemlich einfach zu bedienen, Rückgängigmachen...    AIGÖAU  \n",
       "2                                                       ELCADE  \n",
       "3      Die Seite wirkte aufgeräumter/übersichtlicher    LDELJA  \n",
       "4  gute Übersichtlichkeit\\r\\nsehr schlichte und s...    ERALDE  "
      ]
     },
     "execution_count": 13,
     "metadata": {},
     "output_type": "execute_result"
    }
   ],
   "source": [
    "sample.post.head(5)"
   ]
  },
  {
   "cell_type": "code",
   "execution_count": 128,
   "metadata": {},
   "outputs": [
    {
     "data": {
      "image/png": "[encoded data removed]",
      "text/plain": [
       "<Figure size 554.4x165.6 with 1 Axes>"
      ]
     },
     "metadata": {
      "needs_background": "light"
     },
     "output_type": "display_data"
    }
   ],
   "source": [
    "besser = sample.post.besser.value_counts()\n",
    "besser.index = [\"Shirtinator besser\", \"Spreadshirt besser\", \"Beide gleich gut\"]\n",
    "\n",
    "ax = besser.sort_values().plot.barh(color=\"#555753\", figsize=(7.7, 2.3))\n",
    "ax.set_xlabel(\"Absolute Häufigkeit\")\n",
    "ax.set_ylabel(\"Bewertung\")\n",
    "ax.xaxis.set_major_locator(MaxNLocator(integer=True))\n",
    "plt.tight_layout()\n",
    "plt.savefig(\"bewertung.svg\")"
   ]
  },
  {
   "cell_type": "markdown",
   "metadata": {},
   "source": [
    "## Check prerequisites for t-test"
   ]
  },
  {
   "cell_type": "code",
   "execution_count": 17,
   "metadata": {},
   "outputs": [],
   "source": [
    "collections = [sample.nasa, sample.quesi, sample.feedback, sample.mouse]\n",
    "columns = [\"score\", \"score\", \"ratio\", \"clicks\"]"
   ]
  },
  {
   "cell_type": "markdown",
   "metadata": {},
   "source": [
    "### 1. Normal distribution"
   ]
  },
  {
   "cell_type": "code",
   "execution_count": 18,
   "metadata": {},
   "outputs": [
    {
     "data": {
      "text/plain": [
       "{'NASA-TLX-spreadshirt-score': {'stat': 0.956, 'p': 0.368, 'gaussian': True},\n",
       " 'NASA-TLX-shirtinator-score': {'stat': 0.96, 'p': 0.438, 'gaussian': True},\n",
       " 'QUESI-spreadshirt-score': {'stat': 0.972, 'p': 0.705, 'gaussian': True},\n",
       " 'QUESI-shirtinator-score': {'stat': 0.983, 'p': 0.946, 'gaussian': True},\n",
       " 'Feedback-spreadshirt-ratio': {'stat': 0.924, 'p': 0.071, 'gaussian': True},\n",
       " 'Feedback-shirtinator-ratio': {'stat': 0.878, 'p': 0.008, 'gaussian': False},\n",
       " 'Mouse-spreadshirt-clicks': {'stat': 0.959, 'p': 0.419, 'gaussian': True},\n",
       " 'Mouse-shirtinator-clicks': {'stat': 0.833, 'p': 0.001, 'gaussian': False}}"
      ]
     },
     "execution_count": 18,
     "metadata": {},
     "output_type": "execute_result"
    }
   ],
   "source": [
    "usability.normal_distribution(collections, columns)"
   ]
  },
  {
   "cell_type": "markdown",
   "metadata": {},
   "source": [
    "### 2. Homogeneity of variances"
   ]
  },
  {
   "cell_type": "code",
   "execution_count": 19,
   "metadata": {},
   "outputs": [
    {
     "data": {
      "text/plain": [
       "{'NASA-TLX-score': {'stat': 0.592, 'p': 0.446, 'homogeneous': True},\n",
       " 'QUESI-score': {'stat': 0.296, 'p': 0.589, 'homogeneous': True},\n",
       " 'Feedback-ratio': {'stat': 5.568, 'p': 0.023, 'homogeneous': False},\n",
       " 'Mouse-clicks': {'stat': 0.19, 'p': 0.665, 'homogeneous': True}}"
      ]
     },
     "execution_count": 19,
     "metadata": {},
     "output_type": "execute_result"
    }
   ],
   "source": [
    "usability.variance_homogeneity(collections, columns)"
   ]
  },
  {
   "cell_type": "markdown",
   "metadata": {},
   "source": [
    "## t-test for NASA-TLX and QUESI"
   ]
  },
  {
   "cell_type": "code",
   "execution_count": 20,
   "metadata": {},
   "outputs": [],
   "source": [
    "ALPHA = 0.2"
   ]
  },
  {
   "cell_type": "markdown",
   "metadata": {},
   "source": [
    "### 1. NASA-TLX"
   ]
  },
  {
   "cell_type": "code",
   "execution_count": 21,
   "metadata": {},
   "outputs": [],
   "source": [
    "x = sample.nasa[sample.nasa[\"website\"] == \"spreadshirt\"][\"score\"].values\n",
    "y = sample.nasa[sample.nasa[\"website\"] == \"shirtinator\"][\"score\"].values"
   ]
  },
  {
   "cell_type": "code",
   "execution_count": 22,
   "metadata": {},
   "outputs": [
    {
     "data": {
      "text/plain": [
       "{'stat': -0.597, 'p': 0.556, 'equal': True}"
      ]
     },
     "execution_count": 22,
     "metadata": {},
     "output_type": "execute_result"
    }
   ],
   "source": [
    "usability.t_test(x, y, alpha=ALPHA)"
   ]
  },
  {
   "cell_type": "markdown",
   "metadata": {},
   "source": [
    "### 2. QUESI"
   ]
  },
  {
   "cell_type": "code",
   "execution_count": 23,
   "metadata": {},
   "outputs": [],
   "source": [
    "x = sample.quesi[sample.quesi[\"website\"] == \"spreadshirt\"][\"score\"].values\n",
    "y = sample.quesi[sample.quesi[\"website\"] == \"shirtinator\"][\"score\"].values"
   ]
  },
  {
   "cell_type": "code",
   "execution_count": 24,
   "metadata": {},
   "outputs": [
    {
     "data": {
      "text/plain": [
       "{'stat': 0.764, 'p': 0.452, 'equal': True}"
      ]
     },
     "execution_count": 24,
     "metadata": {},
     "output_type": "execute_result"
    }
   ],
   "source": [
    "usability.t_test(x, y, alpha=ALPHA)"
   ]
  },
  {
   "cell_type": "markdown",
   "metadata": {},
   "source": [
    "## Wilcoxon test for Feedback and Mouse\n",
    "\n",
    "### 1. Feedback"
   ]
  },
  {
   "cell_type": "code",
   "execution_count": 25,
   "metadata": {},
   "outputs": [],
   "source": [
    "x = sample.feedback[sample.feedback[\"website\"] == \"spreadshirt\"][\"ratio\"].values\n",
    "y = sample.feedback[sample.feedback[\"website\"] == \"shirtinator\"][\"ratio\"].values"
   ]
  },
  {
   "cell_type": "code",
   "execution_count": 26,
   "metadata": {},
   "outputs": [
    {
     "data": {
      "text/plain": [
       "{'stat': 106.0, 'p': 0.209, 'equal': True}"
      ]
     },
     "execution_count": 26,
     "metadata": {},
     "output_type": "execute_result"
    }
   ],
   "source": [
    "usability.wilcoxon(x, y, alpha=ALPHA)"
   ]
  },
  {
   "cell_type": "markdown",
   "metadata": {},
   "source": [
    "### 2. Mouse"
   ]
  },
  {
   "cell_type": "code",
   "execution_count": 27,
   "metadata": {},
   "outputs": [],
   "source": [
    "x = sample.mouse[sample.mouse[\"website\"] == \"spreadshirt\"][\"clicks\"].values\n",
    "y = sample.mouse[sample.mouse[\"website\"] == \"shirtinator\"][\"clicks\"].values"
   ]
  },
  {
   "cell_type": "code",
   "execution_count": 28,
   "metadata": {},
   "outputs": [
    {
     "data": {
      "text/plain": [
       "{'stat': 83.0, 'p': 0.056, 'equal': False}"
      ]
     },
     "execution_count": 28,
     "metadata": {},
     "output_type": "execute_result"
    }
   ],
   "source": [
    "usability.wilcoxon(x, y, alpha=ALPHA)"
   ]
  }
 ],
 "metadata": {
  "kernelspec": {
   "display_name": "Python 3",
   "language": "python",
   "name": "python3"
  },
  "language_info": {
   "codemirror_mode": {
    "name": "ipython",
    "version": 3
   },
   "file_extension": ".py",
   "mimetype": "text/x-python",
   "name": "python",
   "nbconvert_exporter": "python",
   "pygments_lexer": "ipython3",
   "version": "3.7.1"
  }
 },
 "nbformat": 4,
 "nbformat_minor": 2
}
