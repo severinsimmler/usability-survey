{
 "cells": [
  {
   "cell_type": "code",
   "execution_count": 1,
   "metadata": {},
   "outputs": [],
   "source": [
    "import pathlib\n",
    "import usability"
   ]
  },
  {
   "cell_type": "markdown",
   "metadata": {},
   "source": [
    "## Welche Daten für welche Hypothese?\n",
    "\n",
    "### Effizienz\n",
    "\n",
    "1. Klicks\n",
    "2. Tastatur\n",
    "2. NASA\n",
    "\n",
    "### Zufriedenheit\n",
    "\n",
    "1. QUESI\n",
    "2. Feedback\n",
    "\n",
    "### Effektivität\n",
    "1. Anzahl Fehler\n",
    "2. Anzahl Hilfestellungen"
   ]
  },
  {
   "cell_type": "markdown",
   "metadata": {},
   "source": [
    "## Pfad zu den Daten"
   ]
  },
  {
   "cell_type": "code",
   "execution_count": 2,
   "metadata": {},
   "outputs": [],
   "source": [
    "directory = pathlib.Path(\"data\", \"collection\")"
   ]
  },
  {
   "cell_type": "markdown",
   "metadata": {},
   "source": [
    "## `Sample` Objekt"
   ]
  },
  {
   "cell_type": "code",
   "execution_count": 3,
   "metadata": {},
   "outputs": [],
   "source": [
    "sample = usability.Sample(directory)"
   ]
  },
  {
   "cell_type": "markdown",
   "metadata": {},
   "source": [
    "## Prä-Fragebogen"
   ]
  },
  {
   "cell_type": "code",
   "execution_count": 4,
   "metadata": {},
   "outputs": [
    {
     "data": {
      "text/html": [
       "<div>\n",
       "<style scoped>\n",
       "    .dataframe tbody tr th:only-of-type {\n",
       "        vertical-align: middle;\n",
       "    }\n",
       "\n",
       "    .dataframe tbody tr th {\n",
       "        vertical-align: top;\n",
       "    }\n",
       "\n",
       "    .dataframe thead th {\n",
       "        text-align: right;\n",
       "    }\n",
       "</style>\n",
       "<table border=\"1\" class=\"dataframe\">\n",
       "  <thead>\n",
       "    <tr style=\"text-align: right;\">\n",
       "      <th></th>\n",
       "      <th>alter</th>\n",
       "      <th>beschäftigung</th>\n",
       "      <th>bildungsabschluss</th>\n",
       "      <th>geschlecht</th>\n",
       "      <th>pseudonym</th>\n",
       "      <th>vorkenntnisse</th>\n",
       "    </tr>\n",
       "  </thead>\n",
       "  <tbody>\n",
       "    <tr>\n",
       "      <th>0</th>\n",
       "      <td>22</td>\n",
       "      <td>MCS</td>\n",
       "      <td>Gymnasium (Abitur)</td>\n",
       "      <td>männlich</td>\n",
       "      <td>AIGÖAU</td>\n",
       "      <td>nein</td>\n",
       "    </tr>\n",
       "    <tr>\n",
       "      <th>1</th>\n",
       "      <td>28</td>\n",
       "      <td>MCS</td>\n",
       "      <td>Gymnasium (Abitur)</td>\n",
       "      <td>weiblich</td>\n",
       "      <td>ANSCJA</td>\n",
       "      <td>nein</td>\n",
       "    </tr>\n",
       "    <tr>\n",
       "      <th>2</th>\n",
       "      <td>28</td>\n",
       "      <td>Digital Humanities</td>\n",
       "      <td>Universitäts-/Hochschulabschluss</td>\n",
       "      <td>weiblich</td>\n",
       "      <td>ADUMFE</td>\n",
       "      <td>nein</td>\n",
       "    </tr>\n",
       "  </tbody>\n",
       "</table>\n",
       "</div>"
      ],
      "text/plain": [
       "  alter       beschäftigung                 bildungsabschluss geschlecht  \\\n",
       "0    22                 MCS                Gymnasium (Abitur)   männlich   \n",
       "1    28                 MCS                Gymnasium (Abitur)   weiblich   \n",
       "2    28  Digital Humanities  Universitäts-/Hochschulabschluss   weiblich   \n",
       "\n",
       "  pseudonym vorkenntnisse  \n",
       "0    AIGÖAU          nein  \n",
       "1    ANSCJA          nein  \n",
       "2    ADUMFE          nein  "
      ]
     },
     "execution_count": 4,
     "metadata": {},
     "output_type": "execute_result"
    }
   ],
   "source": [
    "sample.pre"
   ]
  },
  {
   "cell_type": "markdown",
   "metadata": {},
   "source": [
    "## NASA"
   ]
  },
  {
   "cell_type": "code",
   "execution_count": 5,
   "metadata": {},
   "outputs": [
    {
     "data": {
      "text/html": [
       "<div>\n",
       "<style scoped>\n",
       "    .dataframe tbody tr th:only-of-type {\n",
       "        vertical-align: middle;\n",
       "    }\n",
       "\n",
       "    .dataframe tbody tr th {\n",
       "        vertical-align: top;\n",
       "    }\n",
       "\n",
       "    .dataframe thead th {\n",
       "        text-align: right;\n",
       "    }\n",
       "</style>\n",
       "<table border=\"1\" class=\"dataframe\">\n",
       "  <thead>\n",
       "    <tr style=\"text-align: right;\">\n",
       "      <th></th>\n",
       "      <th>pseudonym</th>\n",
       "      <th>score</th>\n",
       "      <th>survey</th>\n",
       "      <th>website</th>\n",
       "    </tr>\n",
       "  </thead>\n",
       "  <tbody>\n",
       "    <tr>\n",
       "      <th>0</th>\n",
       "      <td>AIGÖAU</td>\n",
       "      <td>26.666667</td>\n",
       "      <td>nasa</td>\n",
       "      <td>spreadshirt</td>\n",
       "    </tr>\n",
       "    <tr>\n",
       "      <th>1</th>\n",
       "      <td>AIGÖAU</td>\n",
       "      <td>42.500000</td>\n",
       "      <td>nasa</td>\n",
       "      <td>shirtinator</td>\n",
       "    </tr>\n",
       "    <tr>\n",
       "      <th>2</th>\n",
       "      <td>ANSCJA</td>\n",
       "      <td>69.166667</td>\n",
       "      <td>nasa</td>\n",
       "      <td>spreadshirt</td>\n",
       "    </tr>\n",
       "    <tr>\n",
       "      <th>3</th>\n",
       "      <td>ANSCJA</td>\n",
       "      <td>84.166667</td>\n",
       "      <td>nasa</td>\n",
       "      <td>shirtinator</td>\n",
       "    </tr>\n",
       "    <tr>\n",
       "      <th>4</th>\n",
       "      <td>ADUMFE</td>\n",
       "      <td>18.333333</td>\n",
       "      <td>nasa</td>\n",
       "      <td>spreadshirt</td>\n",
       "    </tr>\n",
       "    <tr>\n",
       "      <th>5</th>\n",
       "      <td>ADUMFE</td>\n",
       "      <td>33.333333</td>\n",
       "      <td>nasa</td>\n",
       "      <td>shirtinator</td>\n",
       "    </tr>\n",
       "  </tbody>\n",
       "</table>\n",
       "</div>"
      ],
      "text/plain": [
       "  pseudonym      score survey      website\n",
       "0    AIGÖAU  26.666667   nasa  spreadshirt\n",
       "1    AIGÖAU  42.500000   nasa  shirtinator\n",
       "2    ANSCJA  69.166667   nasa  spreadshirt\n",
       "3    ANSCJA  84.166667   nasa  shirtinator\n",
       "4    ADUMFE  18.333333   nasa  spreadshirt\n",
       "5    ADUMFE  33.333333   nasa  shirtinator"
      ]
     },
     "execution_count": 5,
     "metadata": {},
     "output_type": "execute_result"
    }
   ],
   "source": [
    "sample.nasa"
   ]
  },
  {
   "cell_type": "markdown",
   "metadata": {},
   "source": [
    "### Beispiel: Nur Werte für Spreadshirt anzeigen"
   ]
  },
  {
   "cell_type": "code",
   "execution_count": 6,
   "metadata": {},
   "outputs": [
    {
     "data": {
      "text/html": [
       "<div>\n",
       "<style scoped>\n",
       "    .dataframe tbody tr th:only-of-type {\n",
       "        vertical-align: middle;\n",
       "    }\n",
       "\n",
       "    .dataframe tbody tr th {\n",
       "        vertical-align: top;\n",
       "    }\n",
       "\n",
       "    .dataframe thead th {\n",
       "        text-align: right;\n",
       "    }\n",
       "</style>\n",
       "<table border=\"1\" class=\"dataframe\">\n",
       "  <thead>\n",
       "    <tr style=\"text-align: right;\">\n",
       "      <th></th>\n",
       "      <th>pseudonym</th>\n",
       "      <th>score</th>\n",
       "      <th>survey</th>\n",
       "      <th>website</th>\n",
       "    </tr>\n",
       "  </thead>\n",
       "  <tbody>\n",
       "    <tr>\n",
       "      <th>0</th>\n",
       "      <td>AIGÖAU</td>\n",
       "      <td>26.666667</td>\n",
       "      <td>nasa</td>\n",
       "      <td>spreadshirt</td>\n",
       "    </tr>\n",
       "    <tr>\n",
       "      <th>2</th>\n",
       "      <td>ANSCJA</td>\n",
       "      <td>69.166667</td>\n",
       "      <td>nasa</td>\n",
       "      <td>spreadshirt</td>\n",
       "    </tr>\n",
       "    <tr>\n",
       "      <th>4</th>\n",
       "      <td>ADUMFE</td>\n",
       "      <td>18.333333</td>\n",
       "      <td>nasa</td>\n",
       "      <td>spreadshirt</td>\n",
       "    </tr>\n",
       "  </tbody>\n",
       "</table>\n",
       "</div>"
      ],
      "text/plain": [
       "  pseudonym      score survey      website\n",
       "0    AIGÖAU  26.666667   nasa  spreadshirt\n",
       "2    ANSCJA  69.166667   nasa  spreadshirt\n",
       "4    ADUMFE  18.333333   nasa  spreadshirt"
      ]
     },
     "execution_count": 6,
     "metadata": {},
     "output_type": "execute_result"
    }
   ],
   "source": [
    "sample.nasa[sample.nasa[\"website\"] == \"spreadshirt\"]"
   ]
  },
  {
   "cell_type": "markdown",
   "metadata": {},
   "source": [
    "## QUESI"
   ]
  },
  {
   "cell_type": "code",
   "execution_count": 7,
   "metadata": {},
   "outputs": [
    {
     "data": {
      "text/html": [
       "<div>\n",
       "<style scoped>\n",
       "    .dataframe tbody tr th:only-of-type {\n",
       "        vertical-align: middle;\n",
       "    }\n",
       "\n",
       "    .dataframe tbody tr th {\n",
       "        vertical-align: top;\n",
       "    }\n",
       "\n",
       "    .dataframe thead th {\n",
       "        text-align: right;\n",
       "    }\n",
       "</style>\n",
       "<table border=\"1\" class=\"dataframe\">\n",
       "  <thead>\n",
       "    <tr style=\"text-align: right;\">\n",
       "      <th></th>\n",
       "      <th>pseudonym</th>\n",
       "      <th>score</th>\n",
       "      <th>survey</th>\n",
       "      <th>website</th>\n",
       "    </tr>\n",
       "  </thead>\n",
       "  <tbody>\n",
       "    <tr>\n",
       "      <th>0</th>\n",
       "      <td>AIGÖAU</td>\n",
       "      <td>1.9</td>\n",
       "      <td>quesi</td>\n",
       "      <td>shirtinator</td>\n",
       "    </tr>\n",
       "    <tr>\n",
       "      <th>1</th>\n",
       "      <td>AIGÖAU</td>\n",
       "      <td>3.9</td>\n",
       "      <td>quesi</td>\n",
       "      <td>spreadshirt</td>\n",
       "    </tr>\n",
       "    <tr>\n",
       "      <th>2</th>\n",
       "      <td>ANSCJA</td>\n",
       "      <td>1.0</td>\n",
       "      <td>quesi</td>\n",
       "      <td>shirtinator</td>\n",
       "    </tr>\n",
       "    <tr>\n",
       "      <th>3</th>\n",
       "      <td>ANSCJA</td>\n",
       "      <td>1.7</td>\n",
       "      <td>quesi</td>\n",
       "      <td>spreadshirt</td>\n",
       "    </tr>\n",
       "    <tr>\n",
       "      <th>4</th>\n",
       "      <td>ADUMFE</td>\n",
       "      <td>3.0</td>\n",
       "      <td>quesi</td>\n",
       "      <td>shirtinator</td>\n",
       "    </tr>\n",
       "    <tr>\n",
       "      <th>5</th>\n",
       "      <td>ADUMFE</td>\n",
       "      <td>3.8</td>\n",
       "      <td>quesi</td>\n",
       "      <td>spreadshirt</td>\n",
       "    </tr>\n",
       "  </tbody>\n",
       "</table>\n",
       "</div>"
      ],
      "text/plain": [
       "  pseudonym  score survey      website\n",
       "0    AIGÖAU    1.9  quesi  shirtinator\n",
       "1    AIGÖAU    3.9  quesi  spreadshirt\n",
       "2    ANSCJA    1.0  quesi  shirtinator\n",
       "3    ANSCJA    1.7  quesi  spreadshirt\n",
       "4    ADUMFE    3.0  quesi  shirtinator\n",
       "5    ADUMFE    3.8  quesi  spreadshirt"
      ]
     },
     "execution_count": 7,
     "metadata": {},
     "output_type": "execute_result"
    }
   ],
   "source": [
    "sample.quesi"
   ]
  },
  {
   "cell_type": "markdown",
   "metadata": {},
   "source": [
    "## Feedback"
   ]
  },
  {
   "cell_type": "code",
   "execution_count": 8,
   "metadata": {},
   "outputs": [
    {
     "data": {
      "text/html": [
       "<div>\n",
       "<style scoped>\n",
       "    .dataframe tbody tr th:only-of-type {\n",
       "        vertical-align: middle;\n",
       "    }\n",
       "\n",
       "    .dataframe tbody tr th {\n",
       "        vertical-align: top;\n",
       "    }\n",
       "\n",
       "    .dataframe thead th {\n",
       "        text-align: right;\n",
       "    }\n",
       "</style>\n",
       "<table border=\"1\" class=\"dataframe\">\n",
       "  <thead>\n",
       "    <tr style=\"text-align: right;\">\n",
       "      <th></th>\n",
       "      <th>negativ</th>\n",
       "      <th>positiv</th>\n",
       "      <th>pseudonym</th>\n",
       "      <th>website</th>\n",
       "    </tr>\n",
       "  </thead>\n",
       "  <tbody>\n",
       "    <tr>\n",
       "      <th>0</th>\n",
       "      <td>8</td>\n",
       "      <td>18</td>\n",
       "      <td>AIGÖAU</td>\n",
       "      <td>spreadshirt</td>\n",
       "    </tr>\n",
       "    <tr>\n",
       "      <th>1</th>\n",
       "      <td>21</td>\n",
       "      <td>8</td>\n",
       "      <td>AIGÖAU</td>\n",
       "      <td>shirtinator</td>\n",
       "    </tr>\n",
       "    <tr>\n",
       "      <th>2</th>\n",
       "      <td>4</td>\n",
       "      <td>7</td>\n",
       "      <td>ANSCJA</td>\n",
       "      <td>spreadshirt</td>\n",
       "    </tr>\n",
       "    <tr>\n",
       "      <th>3</th>\n",
       "      <td>15</td>\n",
       "      <td>4</td>\n",
       "      <td>ANSCJA</td>\n",
       "      <td>shirtinator</td>\n",
       "    </tr>\n",
       "    <tr>\n",
       "      <th>4</th>\n",
       "      <td>4</td>\n",
       "      <td>83</td>\n",
       "      <td>ADUMFE</td>\n",
       "      <td>spreadshirt</td>\n",
       "    </tr>\n",
       "    <tr>\n",
       "      <th>5</th>\n",
       "      <td>2</td>\n",
       "      <td>10</td>\n",
       "      <td>ADUMFE</td>\n",
       "      <td>shirtinator</td>\n",
       "    </tr>\n",
       "  </tbody>\n",
       "</table>\n",
       "</div>"
      ],
      "text/plain": [
       "   negativ  positiv pseudonym      website\n",
       "0        8       18    AIGÖAU  spreadshirt\n",
       "1       21        8    AIGÖAU  shirtinator\n",
       "2        4        7    ANSCJA  spreadshirt\n",
       "3       15        4    ANSCJA  shirtinator\n",
       "4        4       83    ADUMFE  spreadshirt\n",
       "5        2       10    ADUMFE  shirtinator"
      ]
     },
     "execution_count": 8,
     "metadata": {},
     "output_type": "execute_result"
    }
   ],
   "source": [
    "sample.feedback"
   ]
  },
  {
   "cell_type": "markdown",
   "metadata": {},
   "source": [
    "## Tastatur"
   ]
  },
  {
   "cell_type": "code",
   "execution_count": 9,
   "metadata": {},
   "outputs": [
    {
     "data": {
      "text/html": [
       "<div>\n",
       "<style scoped>\n",
       "    .dataframe tbody tr th:only-of-type {\n",
       "        vertical-align: middle;\n",
       "    }\n",
       "\n",
       "    .dataframe tbody tr th {\n",
       "        vertical-align: top;\n",
       "    }\n",
       "\n",
       "    .dataframe thead th {\n",
       "        text-align: right;\n",
       "    }\n",
       "</style>\n",
       "<table border=\"1\" class=\"dataframe\">\n",
       "  <thead>\n",
       "    <tr style=\"text-align: right;\">\n",
       "      <th></th>\n",
       "      <th>pseudonym</th>\n",
       "      <th>tastenschläge</th>\n",
       "      <th>website</th>\n",
       "    </tr>\n",
       "  </thead>\n",
       "  <tbody>\n",
       "    <tr>\n",
       "      <th>0</th>\n",
       "      <td>AIGÖAU</td>\n",
       "      <td>56</td>\n",
       "      <td>shirtinator</td>\n",
       "    </tr>\n",
       "    <tr>\n",
       "      <th>1</th>\n",
       "      <td>AIGÖAU</td>\n",
       "      <td>41</td>\n",
       "      <td>spreadshirt</td>\n",
       "    </tr>\n",
       "    <tr>\n",
       "      <th>2</th>\n",
       "      <td>ANSCJA</td>\n",
       "      <td>36</td>\n",
       "      <td>shirtinator</td>\n",
       "    </tr>\n",
       "    <tr>\n",
       "      <th>3</th>\n",
       "      <td>ANSCJA</td>\n",
       "      <td>25</td>\n",
       "      <td>spreadshirt</td>\n",
       "    </tr>\n",
       "    <tr>\n",
       "      <th>4</th>\n",
       "      <td>ADUMFE</td>\n",
       "      <td>37</td>\n",
       "      <td>shirtinator</td>\n",
       "    </tr>\n",
       "    <tr>\n",
       "      <th>5</th>\n",
       "      <td>ADUMFE</td>\n",
       "      <td>33</td>\n",
       "      <td>spreadshirt</td>\n",
       "    </tr>\n",
       "  </tbody>\n",
       "</table>\n",
       "</div>"
      ],
      "text/plain": [
       "  pseudonym  tastenschläge      website\n",
       "0    AIGÖAU             56  shirtinator\n",
       "1    AIGÖAU             41  spreadshirt\n",
       "2    ANSCJA             36  shirtinator\n",
       "3    ANSCJA             25  spreadshirt\n",
       "4    ADUMFE             37  shirtinator\n",
       "5    ADUMFE             33  spreadshirt"
      ]
     },
     "execution_count": 9,
     "metadata": {},
     "output_type": "execute_result"
    }
   ],
   "source": [
    "sample.keyboard"
   ]
  },
  {
   "cell_type": "markdown",
   "metadata": {},
   "source": [
    "## Maus"
   ]
  },
  {
   "cell_type": "code",
   "execution_count": 10,
   "metadata": {},
   "outputs": [
    {
     "data": {
      "text/html": [
       "<div>\n",
       "<style scoped>\n",
       "    .dataframe tbody tr th:only-of-type {\n",
       "        vertical-align: middle;\n",
       "    }\n",
       "\n",
       "    .dataframe tbody tr th {\n",
       "        vertical-align: top;\n",
       "    }\n",
       "\n",
       "    .dataframe thead th {\n",
       "        text-align: right;\n",
       "    }\n",
       "</style>\n",
       "<table border=\"1\" class=\"dataframe\">\n",
       "  <thead>\n",
       "    <tr style=\"text-align: right;\">\n",
       "      <th></th>\n",
       "      <th>clicks</th>\n",
       "      <th>pseudonym</th>\n",
       "      <th>website</th>\n",
       "    </tr>\n",
       "  </thead>\n",
       "  <tbody>\n",
       "    <tr>\n",
       "      <th>0</th>\n",
       "      <td>132</td>\n",
       "      <td>AIGÖAU</td>\n",
       "      <td>shirtinator</td>\n",
       "    </tr>\n",
       "    <tr>\n",
       "      <th>1</th>\n",
       "      <td>88</td>\n",
       "      <td>AIGÖAU</td>\n",
       "      <td>spreadshirt</td>\n",
       "    </tr>\n",
       "    <tr>\n",
       "      <th>2</th>\n",
       "      <td>172</td>\n",
       "      <td>ANSCJA</td>\n",
       "      <td>shirtinator</td>\n",
       "    </tr>\n",
       "    <tr>\n",
       "      <th>3</th>\n",
       "      <td>117</td>\n",
       "      <td>ANSCJA</td>\n",
       "      <td>spreadshirt</td>\n",
       "    </tr>\n",
       "    <tr>\n",
       "      <th>4</th>\n",
       "      <td>87</td>\n",
       "      <td>ADUMFE</td>\n",
       "      <td>shirtinator</td>\n",
       "    </tr>\n",
       "    <tr>\n",
       "      <th>5</th>\n",
       "      <td>122</td>\n",
       "      <td>ADUMFE</td>\n",
       "      <td>spreadshirt</td>\n",
       "    </tr>\n",
       "  </tbody>\n",
       "</table>\n",
       "</div>"
      ],
      "text/plain": [
       "   clicks pseudonym      website\n",
       "0     132    AIGÖAU  shirtinator\n",
       "1      88    AIGÖAU  spreadshirt\n",
       "2     172    ANSCJA  shirtinator\n",
       "3     117    ANSCJA  spreadshirt\n",
       "4      87    ADUMFE  shirtinator\n",
       "5     122    ADUMFE  spreadshirt"
      ]
     },
     "execution_count": 10,
     "metadata": {},
     "output_type": "execute_result"
    }
   ],
   "source": [
    "sample.mouse"
   ]
  },
  {
   "cell_type": "markdown",
   "metadata": {},
   "source": [
    "## Optimale Stichprobengröße"
   ]
  },
  {
   "cell_type": "code",
   "execution_count": 11,
   "metadata": {},
   "outputs": [
    {
     "name": "stdout",
     "output_type": "stream",
     "text": [
      "Optimal size for NASA: 24.34136957801515\n",
      "\n",
      "Optimal size for QUESI: 4558.888202856723\n",
      "\n",
      "Optimal size for Feedback positiv: 37.68834239797309\n",
      "\n",
      "Optimal size for Feedback negativ: 24.476142866783565\n",
      "\n",
      "Optimal size for Tastatur: 2.822379267967262\n",
      "\n",
      "Optimal size for Maus: 23.38653993831813\n",
      "\n",
      "MEDIAN: 24.408756222399358\n"
     ]
    }
   ],
   "source": [
    "directory = pathlib.Path(\"data\", \"pilot\")\n",
    "pilot = usability.Sample(directory)\n",
    "print(f\"MEDIAN: {pilot.optimal_size(alpha=0.16, power=0.7)}\")"
   ]
  }
 ],
 "metadata": {
  "kernelspec": {
   "display_name": "Python 3",
   "language": "python",
   "name": "python3"
  },
  "language_info": {
   "codemirror_mode": {
    "name": "ipython",
    "version": 3
   },
   "file_extension": ".py",
   "mimetype": "text/x-python",
   "name": "python",
   "nbconvert_exporter": "python",
   "pygments_lexer": "ipython3",
   "version": "3.7.1"
  }
 },
 "nbformat": 4,
 "nbformat_minor": 2
}
